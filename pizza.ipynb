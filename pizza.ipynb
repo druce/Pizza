{
 "cells": [
  {
   "cell_type": "code",
   "execution_count": 18,
   "metadata": {},
   "outputs": [],
   "source": [
    "import time\n",
    "import pdb\n",
    "\n",
    "import requests, json \n",
    "import flask\n",
    "\n",
    "import gmaps\n",
    "with open('apikey.txt') as f:\n",
    "    api_key = f.readline().strip()\n",
    "    f.close\n",
    "    \n",
    "gmaps.configure(api_key=api_key)\n",
    "\n"
   ]
  },
  {
   "cell_type": "code",
   "execution_count": 20,
   "metadata": {},
   "outputs": [
    {
     "data": {
      "text/plain": [
       "'1.1.1'"
      ]
     },
     "execution_count": 20,
     "metadata": {},
     "output_type": "execute_result"
    }
   ],
   "source": [
    "flask.__version__"
   ]
  },
  {
   "cell_type": "code",
   "execution_count": 2,
   "metadata": {},
   "outputs": [
    {
     "data": {
      "application/vnd.jupyter.widget-view+json": {
       "model_id": "7429971452ea40b2b8199cf5e01a38fc",
       "version_major": 2,
       "version_minor": 0
      },
      "text/plain": [
       "Figure(layout=FigureLayout(height='420px'))"
      ]
     },
     "metadata": {},
     "output_type": "display_data"
    }
   ],
   "source": [
    "new_york_coordinates = (40.75, -74.00)\n",
    "gmaps.figure(center=new_york_coordinates, zoom_level=12)\n"
   ]
  },
  {
   "cell_type": "code",
   "execution_count": 3,
   "metadata": {},
   "outputs": [],
   "source": [
    "ratings = {}\n",
    "addresses = {}\n",
    "URL = \"https://maps.googleapis.com/maps/api/place/nearbysearch/json\"\n",
    "# https://developers.google.com/places/web-service/search#TextSearchRequests\n",
    "MIN_USER_RATINGS = 10\n",
    "MIN_RATING = 4\n",
    "\n",
    "# home\n",
    "location = '40.6875627,-74.0035107'\n",
    "# grand army plaza\n",
    "# location = '40.671872,-73.972544'\n",
    "# union st and 4th ave\n",
    "# location ='40.677485,-73.983310'\n",
    "# bay ridge\n",
    "# location = \"40.624468,-74.0487134\"\n",
    "\n",
    "#rankby='prominence'\n",
    "rankby='distance'\n",
    "keyword='coffee'\n",
    "ltype='establishment'\n",
    "radius='3000'\n",
    "#https://developers.google.com/places/web-service/supported_types"
   ]
  },
  {
   "cell_type": "code",
   "execution_count": 14,
   "metadata": {},
   "outputs": [],
   "source": [
    "def get_gmaps_results(api_key, location, **kwargs):\n",
    "\n",
    "    request_url = URL + '?key=' + api_key\n",
    "    request_url += '&location=' + location\n",
    "    for name, val in kwargs.items():\n",
    "        request_url += '&' + name + '=' + val\n",
    "    r = requests.get(request_url)\n",
    "    j = r.json()\n",
    "    return j\n",
    "\n",
    "def get_next_page(api_key, next_page_token):\n",
    "    r = requests.get(URL + '?pagetoken=' + next_page_token +\n",
    "                        '&key=' + api_key)\n",
    "    for i in range(10):\n",
    "        j = r.json()\n",
    "        if not j['results']: # wait for next page to be available\n",
    "            time.sleep(5)\n",
    "            continue\n",
    "        else:\n",
    "            return j\n",
    "\n",
    "def process_results(results):\n",
    "    global ratings, addresses\n",
    "    for i, res in enumerate(results): \n",
    "        if res['user_ratings_total'] < MIN_USER_RATINGS:\n",
    "            continue\n",
    "        if res['rating'] < MIN_RATING:\n",
    "            continue\n",
    "        addresses[res['name']] = res['vicinity']\n",
    "        ratings[res['name']] = res['rating']\n",
    "        print(res['name'], res['rating'])\n",
    "    return i+1"
   ]
  },
  {
   "cell_type": "code",
   "execution_count": 15,
   "metadata": {},
   "outputs": [],
   "source": [
    "def runquery(api_key, location, **kwargs):\n",
    "    j = get_gmaps_results(api_key, location, **kwargs)\n",
    "    results = j['results']\n",
    "    totalresults = 0\n",
    "    \n",
    "    totalresults += process_results(results)\n",
    "    \n",
    "    while 'next_page_token' in j:\n",
    "        next_page_token = j['next_page_token']\n",
    "        time.sleep(5)\n",
    "        j = get_next_page(api_key, next_page_token)\n",
    "        results = j['results'] \n",
    "        totalresults += process_results(results)\n",
    "        \n",
    "    return totalresults"
   ]
  },
  {
   "cell_type": "code",
   "execution_count": 16,
   "metadata": {},
   "outputs": [
    {
     "name": "stdout",
     "output_type": "stream",
     "text": [
      "Fare and Folk 4.5\n",
      "Espresso Me 4.4\n",
      "Kaigo Coffee Room 4.8\n",
      "Henry's Local 4.2\n",
      "Swallow Cafe 4.3\n",
      "Marquet Patisserie 4.2\n",
      "D'Amico Coffee 4.6\n",
      "Starbucks 4.1\n",
      "East One Coffee Roasters 4.5\n",
      "Stumptown Coffee Roasters 4.6\n",
      "Velvette Brew 4.7\n",
      "About coffee 4.8\n",
      "Starbucks 4.1\n",
      "Starbucks 4.1\n",
      "Mia's 4.6\n",
      "Blue Bottle Coffee 4.5\n",
      "Maison Kayser 4.3\n",
      "Brooklyn Habit 4.6\n",
      "Gregorys Coffee 4.4\n",
      "Seeds of love 4\n",
      "Bien Cuit 4.3\n",
      "Konditori 4.2\n",
      "Nerd be cool. Espresso Lab 4.6\n",
      "Absolute Coffee 4.4\n",
      "Starbucks 4\n",
      "The Little Sweet Café 4.5\n",
      "Baked 4.5\n",
      "Joe Coffee Company 4.3\n",
      "Commons Cafe 4.5\n",
      "Casella Bagel Coffee Shop 4.3\n",
      "Devoción 4.4\n",
      "dot & line 4.7\n",
      "Abbotsford Road Coffee Specialists 4.7\n",
      "Ground Central Coffee Company 4.4\n",
      "Stone Street Coffee Company Cafe 4\n",
      "Bluestone Lane DUMBO Café 4.3\n",
      "Cafe Grumpy - Financial District 4.4\n",
      "Gregorys Coffee 4.1\n",
      "Hungry Ghost Coffee 4.8\n",
      "The Brooklyn Cat Cafe 4.6\n",
      "Regular Visitors 4.5\n",
      "Le Petit Cafe 4.3\n",
      "Building On Bond 4.2\n",
      "Allegro Coffee Roasters 4.2\n",
      "Bluestone Lane Water Street Coffee Shop 4.2\n",
      "Starbucks 4\n",
      "Gregorys Coffee 4.2\n",
      "Ninth Street Espresso 4.5\n",
      "Coffee Project NY 4.8\n",
      "La Colombe Coffee Roasters 4.5\n",
      "Brooklyn Roasting Company 4.2\n",
      "Black Fox Coffee 4.5\n",
      "Gregorys Coffee 4.1\n",
      "Jack’s Stir Brew Coffee 4.2\n",
      "Everyman Espresso 4.6\n",
      "Bridge Front 4.4\n",
      "Blue Spoon Coffee Company 4.5\n"
     ]
    },
    {
     "data": {
      "text/plain": [
       "60"
      ]
     },
     "execution_count": 16,
     "metadata": {},
     "output_type": "execute_result"
    }
   ],
   "source": [
    "# use either rankby or radius\n",
    "# j = get_gmaps_results(api_key, location, keyword=keyword, ltype=ltype, radius=radius)\n",
    "runquery(api_key, location, keyword=keyword, ltype=ltype, rankby=rankby)\n"
   ]
  },
  {
   "cell_type": "code",
   "execution_count": 9,
   "metadata": {},
   "outputs": [
    {
     "name": "stdout",
     "output_type": "stream",
     "text": [
      "4.8 Coffee Project NY 78 Rockwell Pl, Brooklyn\n",
      "4.8 Hungry Ghost Coffee 80 Dekalb Ave, Brooklyn\n",
      "4.8 About coffee 187 State St, Brooklyn\n",
      "4.8 Kaigo Coffee Room 139 Bridge Park Dr, Brooklyn\n",
      "4.7 Abbotsford Road Coffee Specialists 573 Sackett St, Brooklyn\n",
      "4.7 dot & line 253 Bergen St, Brooklyn\n",
      "4.7 Velvette Brew 251 Smith St, Brooklyn\n",
      "4.6 The Brooklyn Cat Cafe 76 Montague St, Brooklyn\n",
      "4.6 Nerd be cool. Espresso Lab 518 Court St, Brooklyn\n",
      "4.6 Brooklyn Habit 405 Smith St, Brooklyn\n",
      "4.6 Mia's 139 Smith St, Brooklyn\n",
      "4.6 Stumptown Coffee Roasters 212b Pacific St, Brooklyn\n",
      "4.6 D'Amico Coffee 309 Court St, Brooklyn\n",
      "4.5 Blue Spoon Coffee Company 90 William St, New York\n",
      "4.5 Black Fox Coffee 70 Pine St, New York\n",
      "4.5 Brooklyn Roasting Company 25 Jay St, Brooklyn\n",
      "4.5 La Colombe Coffee Roasters 67 Wall St, New York\n",
      "4.5 WHITE NOISE COFFEE CO. 57 Smith St, Brooklyn\n",
      "4.5 Regular Visitors 149 Smith St, Brooklyn\n",
      "4.5 Ninth Street Espresso 333 Douglass St #3115, Brooklyn\n",
      "4.5 Commons Cafe 388 Atlantic Ave, Brooklyn\n",
      "4.5 Baked 359 Van Brunt St, Brooklyn\n",
      "4.5 The Little Sweet Café 77 Hoyt St, Brooklyn\n",
      "4.5 Blue Bottle Coffee 85 Dean St, Brooklyn\n",
      "4.5 East One Coffee Roasters 384 Court St, Brooklyn\n",
      "4.5 Fare and Folk 402 Henry St, Brooklyn\n",
      "4.4 Bridge Front 73 Bridge St, Brooklyn\n",
      "4.4 Cafe Grumpy - Financial District 20 Stone St, New York\n",
      "4.4 Ground Central Coffee Company 2 Coenties Slip, New York\n",
      "4.4 Devoción 276 Livingston St, Brooklyn\n",
      "4.4 Absolute Coffee 327 Atlantic Ave, Brooklyn\n",
      "4.4 Espresso Me 88 Atlantic Ave, Brooklyn\n",
      "4.3 Le Petit Cafe 502 Court St, Brooklyn\n",
      "4.3 Bluestone Lane DUMBO Café 55 Prospect St, Brooklyn\n",
      "4.3 Casella Bagel Coffee Shop 66 Willoughby St, Brooklyn\n",
      "4.3 Joe Coffee Company 102 Hicks St, Brooklyn\n",
      "4.3 Bien Cuit 120 Smith St, Brooklyn\n",
      "4.3 Swallow Cafe 156 Atlantic Ave, Brooklyn\n",
      "4.2 Bean & Bean Wall St 71 Broadway, New York\n",
      "4.2 Jack’s Stir Brew Coffee 222 Front St, New York\n",
      "4.2 Bluestone Lane Water Street Coffee Shop 90 Water St, New York\n",
      "4.2 Allegro Coffee Roasters 214 3rd St, Brooklyn\n",
      "4.2 Building On Bond 112 Bond St, Brooklyn\n",
      "4.2 Konditori 114 Smith St, Brooklyn\n",
      "4.2 Marquet Patisserie 221 Court St, Brooklyn\n",
      "4.2 Henry's Local 570 Henry St, Brooklyn\n",
      "4.1 Gregorys Coffee 42 Broadway, New York\n",
      "4.1 Starbucks 99 Wall St, New York\n",
      "4 Stone Street Coffee Company Cafe 129 9th St, Brooklyn\n",
      "4 Dunkin' 148 Smith St, Brooklyn\n"
     ]
    }
   ],
   "source": [
    "jarray = []\n",
    "for name, rating in reversed(sorted(ratings.items(), key=lambda item: item[1])):\n",
    "    print (rating, name, addresses[name])\n",
    "    jarray.append([name, addresses[name], rating])\n",
    "    \n"
   ]
  },
  {
   "cell_type": "code",
   "execution_count": null,
   "metadata": {},
   "outputs": [],
   "source": [
    "import flask\n",
    "app = flask.Flask(__name__)\n",
    "app.config[\"DEBUG\"] = True\n",
    "\n",
    "@app.route('/', methods=['GET'])\n",
    "def home():\n",
    "    return \"<h1>Hello</p>\"\n",
    "\n",
    "app.run(port=8502)"
   ]
  },
  {
   "cell_type": "code",
   "execution_count": null,
   "metadata": {},
   "outputs": [],
   "source": [
    "flask.jsonify(jarray)"
   ]
  },
  {
   "cell_type": "code",
   "execution_count": null,
   "metadata": {},
   "outputs": [],
   "source": [
    "def testfunc(**kwargs):\n",
    "    for name, val in kwargs.items():\n",
    "        print (name, val)"
   ]
  },
  {
   "cell_type": "code",
   "execution_count": null,
   "metadata": {},
   "outputs": [],
   "source": [
    "testfunc(manza='tetas', ola='raman')"
   ]
  },
  {
   "cell_type": "code",
   "execution_count": null,
   "metadata": {},
   "outputs": [],
   "source": []
  }
 ],
 "metadata": {
  "kernelspec": {
   "display_name": "TF21",
   "language": "python",
   "name": "tf21"
  },
  "language_info": {
   "codemirror_mode": {
    "name": "ipython",
    "version": 3
   },
   "file_extension": ".py",
   "mimetype": "text/x-python",
   "name": "python",
   "nbconvert_exporter": "python",
   "pygments_lexer": "ipython3",
   "version": "3.6.10"
  }
 },
 "nbformat": 4,
 "nbformat_minor": 2
}
