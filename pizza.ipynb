{
 "cells": [
  {
   "cell_type": "markdown",
   "metadata": {},
   "source": [
    " - Needs a Google API key\n",
    " - [Create credentials and give access to Places APIs](https://console.cloud.google.com/google/maps-apis/credentials)\n",
    " - nbextension just shows maps in notebook, could add pins and stuff\n",
    "\n",
    "```\n",
    "conda install -c conda-forge -y gmaps\n",
    "conda install -c conda-forge -y jupyter_contrib_nbextensions\n",
    "jupyter nbextension enable --py gmaps\n",
    "jupyter notebook\n",
    "```\n"
   ]
  },
  {
   "cell_type": "code",
   "execution_count": 1,
   "metadata": {},
   "outputs": [],
   "source": [
    "import time\n",
    "import pdb\n",
    "\n",
    "import requests, json \n",
    "\n",
    "import gmaps\n",
    "with open('apikey.txt') as f:\n",
    "    api_key = f.readline().strip()\n",
    "    f.close\n",
    "\n",
    "gmaps.configure(api_key=api_key)\n",
    "\n"
   ]
  },
  {
   "cell_type": "code",
   "execution_count": 2,
   "metadata": {},
   "outputs": [
    {
     "data": {
      "application/vnd.jupyter.widget-view+json": {
       "model_id": "0ecb23ee1c9b4c209605595f27ba2ada",
       "version_major": 2,
       "version_minor": 0
      },
      "text/plain": [
       "Figure(layout=FigureLayout(border='1px solid black', height='800px', padding='1px', width='800px'))"
      ]
     },
     "metadata": {},
     "output_type": "display_data"
    }
   ],
   "source": [
    "new_york_coordinates = (40.6782308, -73.9974274)\n",
    "figure_layout = {\n",
    "    'width': '800px',\n",
    "    'height': '800px',\n",
    "    'border': '1px solid black',\n",
    "    'padding': '1px'\n",
    "}\n",
    "gmaps.figure(center=new_york_coordinates, zoom_level=12, layout=figure_layout)\n"
   ]
  },
  {
   "cell_type": "code",
   "execution_count": 3,
   "metadata": {},
   "outputs": [],
   "source": [
    "ratings = {}\n",
    "addresses = {}\n",
    "locations = {}\n",
    "nratings = {}\n",
    "URL = \"https://maps.googleapis.com/maps/api/place/nearbysearch/json\"\n",
    "# https://developers.google.com/places/web-service/search#TextSearchRequests\n",
    "MIN_USER_RATINGS = 20\n",
    "MIN_RATING = 4\n",
    "\n",
    "# home\n",
    "mylocation = '40.6782308,-73.9974274'\n",
    "# grand army plaza\n",
    "# location = '40.671872,-73.972544'\n",
    "# union st and 4th ave\n",
    "# location ='40.677485,-73.983310'\n",
    "# bay ridge\n",
    "# location = \"40.624468,-74.0487134\"\n",
    "\n",
    "#rankby='prominence'\n",
    "rankby='distance'\n",
    "keyword='pizza'\n",
    "keyword='coffee'\n",
    "\n",
    "ltype='establishment'\n",
    "radius='3000'\n",
    "#https://developers.google.com/places/web-service/supported_types"
   ]
  },
  {
   "cell_type": "code",
   "execution_count": 4,
   "metadata": {},
   "outputs": [],
   "source": [
    "def get_gmaps_results(api_key, location, **kwargs):\n",
    "\n",
    "    request_url = URL + '?key=' + api_key\n",
    "    request_url += '&location=' + location\n",
    "    for name, val in kwargs.items():\n",
    "        request_url += '&' + name + '=' + val\n",
    "    r = requests.get(request_url)\n",
    "    j = r.json()\n",
    "    return j\n",
    "\n",
    "def get_next_page(api_key, next_page_token):\n",
    "    r = requests.get(URL + '?pagetoken=' + next_page_token +\n",
    "                        '&key=' + api_key)\n",
    "    for i in range(10):\n",
    "        j = r.json()\n",
    "        if not j['results']: # wait for next page to be available\n",
    "            time.sleep(5)\n",
    "            continue\n",
    "        else:\n",
    "            return j\n",
    "\n",
    "def process_results(results):\n",
    "    global ratings, addresses, locations, nratings\n",
    "    for i, res in enumerate(results): \n",
    "        if res['user_ratings_total'] < MIN_USER_RATINGS:\n",
    "            continue\n",
    "        if res['rating'] < MIN_RATING:\n",
    "            continue\n",
    "        addresses[res['name']] = res['vicinity']\n",
    "        ratings[res['name']] = res['rating']\n",
    "        nratings[res['name']] = res['user_ratings_total']\n",
    "        locations[res['name']] = res['geometry']['location']\n",
    "        print(res['name'], res['rating'], res['geometry']['location'])\n",
    "    return len(results)+1"
   ]
  },
  {
   "cell_type": "code",
   "execution_count": 5,
   "metadata": {},
   "outputs": [],
   "source": [
    "def runquery(api_key, location, **kwargs):\n",
    "    j = get_gmaps_results(api_key, location, **kwargs)\n",
    "    results = j['results']\n",
    "    totalresults = 0\n",
    "    \n",
    "    totalresults += process_results(results)\n",
    "    \n",
    "    while 'next_page_token' in j:\n",
    "        next_page_token = j['next_page_token']\n",
    "        time.sleep(5)\n",
    "        j = get_next_page(api_key, next_page_token)\n",
    "        results = j['results'] \n",
    "        totalresults += process_results(results)\n",
    "        \n",
    "    return totalresults"
   ]
  },
  {
   "cell_type": "code",
   "execution_count": 6,
   "metadata": {},
   "outputs": [
    {
     "name": "stdout",
     "output_type": "stream",
     "text": [
      "Seeds of love 4.1 {'lat': 40.6788988, 'lng': -73.9973881}\n",
      "Brooklyn Habit 4.6 {'lat': 40.67799240000001, 'lng': -73.9960648}\n",
      "Nerd be cool. Espresso Lab 4.6 {'lat': 40.67619490000001, 'lng': -73.99912929999999}\n",
      "East One Coffee Roasters 4.5 {'lat': 40.6811876, 'lng': -73.9966204}\n",
      "Bond St Coffee and Goods 4.7 {'lat': 40.67797669999999, 'lng': -73.9908619}\n",
      "Cobble Hill Coffeeshop 4.2 {'lat': 40.6834534, 'lng': -73.9955585}\n",
      "Stone Street Coffee Company 4 {'lat': 40.6725607, 'lng': -73.9927822}\n",
      "Abbotsford Road Coffee Specialists 4.7 {'lat': 40.6793462, 'lng': -73.9853789}\n",
      "Starbucks 4.1 {'lat': 40.686221, 'lng': -73.99095400000002}\n",
      "Starbucks 4.3 {'lat': 40.6693374, 'lng': -73.989842}\n",
      "Blue Bottle Coffee 4.5 {'lat': 40.68735119999999, 'lng': -73.9897502}\n",
      "Starbucks 4 {'lat': 40.688556, 'lng': -73.99274799999999}\n",
      "Starbucks 4.4 {'lat': 40.676998, 'lng': -73.983038}\n",
      "Stumptown Coffee Roasters 4.7 {'lat': 40.6888305, 'lng': -73.9921739}\n",
      "Ninth Street Espresso 4.5 {'lat': 40.6796286, 'lng': -73.9822585}\n",
      "Postmark Cafe 4.7 {'lat': 40.6710613, 'lng': -73.9851996}\n",
      "Absolute Coffee 4.4 {'lat': 40.6881938, 'lng': -73.9876371}\n",
      "Crumbs & Coffee 4.4 {'lat': 40.66958820000001, 'lng': -73.9856544}\n",
      "Kos Kaffe 4.2 {'lat': 40.6746676, 'lng': -73.9815249}\n",
      "WHITE NOISE COFFEE CO. 4.5 {'lat': 40.6896983, 'lng': -73.9882236}\n",
      "Devoción 4.4 {'lat': 40.6885567, 'lng': -73.98345909999999}\n",
      "Starbucks 4 {'lat': 40.691795, 'lng': -73.988548}\n",
      "Kaigo Coffee Room 4.8 {'lat': 40.6934911, 'lng': -74.0009937}\n",
      "Sweetwaters Coffee & Tea 5th Ave. Park Slope 4.6 {'lat': 40.68102620000001, 'lng': -73.976986}\n",
      "Hedgehog Coffee 4.7 {'lat': 40.6697216, 'lng': -73.9794446}\n",
      "Gregorys Coffee 4.4 {'lat': 40.6936215, 'lng': -73.99085989999999}\n",
      "Casella Bagel Coffee Shop 4.3 {'lat': 40.6920868, 'lng': -73.9860374}\n",
      "Blue Bottle Coffee 4.4 {'lat': 40.6706285, 'lng': -73.9782323}\n",
      "Gorilla Coffee 4.4 {'lat': 40.6808028, 'lng': -73.9757071}\n",
      "Java Joe Coffee Tea & Spice Merchant 4.7 {'lat': 40.6672891, 'lng': -73.9808018}\n",
      "Coffee Project NY 4.8 {'lat': 40.68777619999999, 'lng': -73.9793293}\n",
      "Hungry Ghost Coffee 4.7 {'lat': 40.6897749, 'lng': -73.98014979999999}\n",
      "Hungry Ghost 4.3 {'lat': 40.6802981, 'lng': -73.9743992}\n",
      "Konditori 4.2 {'lat': 40.6878333, 'lng': -73.9898417}\n",
      "Panera Bread 4 {'lat': 40.6926023, 'lng': -73.9884768}\n",
      "Roots Cafe 4.7 {'lat': 40.6628539, 'lng': -73.9916653}\n",
      "Cafe Grumpy - Park Slope 4.5 {'lat': 40.665221, 'lng': -73.982626}\n",
      "Southside Coffee 4.5 {'lat': 40.661172, 'lng': -73.990343}\n",
      "Hungry Ghost 4.4 {'lat': 40.6860972, 'lng': -73.9735583}\n",
      "Joe Coffee Company 4.4 {'lat': 40.6986734, 'lng': -73.9943579}\n",
      "Bluestone Lane DUMBO Café 4.3 {'lat': 40.7008302, 'lng': -73.9883345}\n",
      "Starbucks 4 {'lat': 40.702668, 'lng': -73.990814}\n",
      "Brooklyn Roasting Company 4.3 {'lat': 40.7029226, 'lng': -73.9894612}\n",
      "Bridge Front 4.4 {'lat': 40.7022222, 'lng': -73.9844444}\n",
      "Brooklyn Roasting Company 4.2 {'lat': 40.6983633, 'lng': -73.9736121}\n",
      "Brooklyn Roasting Company 4.5 {'lat': 40.704207, 'lng': -73.986441}\n",
      "Peck's 4.4 {'lat': 40.6934795, 'lng': -73.9673328}\n"
     ]
    },
    {
     "data": {
      "text/plain": [
       "63"
      ]
     },
     "execution_count": 6,
     "metadata": {},
     "output_type": "execute_result"
    }
   ],
   "source": [
    "# use either rankby or radius\n",
    "# j = get_gmaps_results(api_key, location, keyword=keyword, ltype=ltype, radius=radius)\n",
    "runquery(api_key, mylocation, keyword=keyword, ltype=ltype, rankby=rankby)\n",
    "# runquery(api_key, location, keyword=keyword, ltype=ltype, radius=radius)\n"
   ]
  },
  {
   "cell_type": "code",
   "execution_count": 7,
   "metadata": {},
   "outputs": [
    {
     "data": {
      "text/plain": [
       "{'Seeds of love': 4.1,\n",
       " 'Brooklyn Habit': 4.6,\n",
       " 'Nerd be cool. Espresso Lab': 4.6,\n",
       " 'East One Coffee Roasters': 4.5,\n",
       " 'Bond St Coffee and Goods': 4.7,\n",
       " 'Cobble Hill Coffeeshop': 4.2,\n",
       " 'Stone Street Coffee Company': 4,\n",
       " 'Abbotsford Road Coffee Specialists': 4.7,\n",
       " 'Starbucks': 4,\n",
       " 'Blue Bottle Coffee': 4.4,\n",
       " 'Stumptown Coffee Roasters': 4.7,\n",
       " 'Ninth Street Espresso': 4.5,\n",
       " 'Postmark Cafe': 4.7,\n",
       " 'Absolute Coffee': 4.4,\n",
       " 'Crumbs & Coffee': 4.4,\n",
       " 'Kos Kaffe': 4.2,\n",
       " 'WHITE NOISE COFFEE CO.': 4.5,\n",
       " 'Devoción': 4.4,\n",
       " 'Kaigo Coffee Room': 4.8,\n",
       " 'Sweetwaters Coffee & Tea 5th Ave. Park Slope': 4.6,\n",
       " 'Hedgehog Coffee': 4.7,\n",
       " 'Gregorys Coffee': 4.4,\n",
       " 'Casella Bagel Coffee Shop': 4.3,\n",
       " 'Gorilla Coffee': 4.4,\n",
       " 'Java Joe Coffee Tea & Spice Merchant': 4.7,\n",
       " 'Coffee Project NY': 4.8,\n",
       " 'Hungry Ghost Coffee': 4.7,\n",
       " 'Hungry Ghost': 4.4,\n",
       " 'Konditori': 4.2,\n",
       " 'Panera Bread': 4,\n",
       " 'Roots Cafe': 4.7,\n",
       " 'Cafe Grumpy - Park Slope': 4.5,\n",
       " 'Southside Coffee': 4.5,\n",
       " 'Joe Coffee Company': 4.4,\n",
       " 'Bluestone Lane DUMBO Café': 4.3,\n",
       " 'Brooklyn Roasting Company': 4.5,\n",
       " 'Bridge Front': 4.4,\n",
       " \"Peck's\": 4.4}"
      ]
     },
     "execution_count": 7,
     "metadata": {},
     "output_type": "execute_result"
    }
   ],
   "source": [
    "ratings"
   ]
  },
  {
   "cell_type": "code",
   "execution_count": 8,
   "metadata": {},
   "outputs": [
    {
     "name": "stdout",
     "output_type": "stream",
     "text": [
      "Coffee Project NY 78 Rockwell Pl, Brooklyn 4.8 40.68777619999999 -73.9793293 119\n",
      "Kaigo Coffee Room 139 Bridge Park Dr, Brooklyn 4.8 40.6934911 -74.0009937 81\n",
      "Roots Cafe 639 5th Ave, Brooklyn 4.7 40.6628539 -73.9916653 252\n",
      "Hungry Ghost Coffee 80 Dekalb Ave, Brooklyn 4.7 40.6897749 -73.98014979999999 60\n",
      "Java Joe Coffee Tea & Spice Merchant 414 8th St, Brooklyn 4.7 40.6672891 -73.9808018 59\n",
      "Hedgehog Coffee 240 7th Ave, Brooklyn 4.7 40.6697216 -73.9794446 32\n",
      "Postmark Cafe 326 6th St, Brooklyn 4.7 40.6710613 -73.9851996 180\n",
      "Stumptown Coffee Roasters 212b Pacific St, Brooklyn 4.7 40.6888305 -73.9921739 187\n",
      "Abbotsford Road Coffee Specialists 573 Sackett St, Brooklyn 4.7 40.6793462 -73.9853789 111\n",
      "Bond St Coffee and Goods 365 Bond St, Brooklyn 4.7 40.67797669999999 -73.9908619 41\n",
      "Sweetwaters Coffee & Tea 5th Ave. Park Slope 55 5th Ave, Brooklyn 4.6 40.68102620000001 -73.976986 55\n",
      "Nerd be cool. Espresso Lab 518 Court St, Brooklyn 4.6 40.67619490000001 -73.99912929999999 62\n",
      "Brooklyn Habit 405 Smith St, Brooklyn 4.6 40.67799240000001 -73.9960648 80\n",
      "Brooklyn Roasting Company 25 Jay St, Brooklyn 4.5 40.704207 -73.986441 1310\n",
      "Southside Coffee 654 6th Ave, Brooklyn 4.5 40.661172 -73.990343 153\n",
      "Cafe Grumpy - Park Slope 383 7th Ave, Brooklyn 4.5 40.665221 -73.982626 172\n",
      "WHITE NOISE COFFEE CO. 57 Smith St, Brooklyn 4.5 40.6896983 -73.9882236 70\n",
      "Ninth Street Espresso 333 Douglass St, Brooklyn 4.5 40.6796286 -73.9822585 63\n",
      "East One Coffee Roasters 384 Court St, Brooklyn 4.5 40.6811876 -73.9966204 347\n",
      "Peck's 455A Myrtle Ave, Brooklyn 4.4 40.6934795 -73.9673328 155\n",
      "Bridge Front 73 Bridge St, Brooklyn 4.4 40.7022222 -73.9844444 191\n",
      "Joe Coffee Company 102 Hicks St, Brooklyn 4.4 40.6986734 -73.9943579 259\n",
      "Hungry Ghost 781 Fulton St, Brooklyn 4.4 40.6860972 -73.9735583 258\n",
      "Gorilla Coffee 472 Bergen St, Brooklyn 4.4 40.6808028 -73.9757071 440\n",
      "Gregorys Coffee 16 Court St, Brooklyn 4.4 40.6936215 -73.99085989999999 238\n",
      "Devoción 276 Livingston St, Brooklyn 4.4 40.6885567 -73.98345909999999 376\n",
      "Crumbs & Coffee 423 5th Ave, Brooklyn 4.4 40.66958820000001 -73.9856544 59\n",
      "Absolute Coffee 327 Atlantic Ave, Brooklyn 4.4 40.6881938 -73.9876371 267\n",
      "Blue Bottle Coffee 203 7th Ave, Brooklyn 4.4 40.6706285 -73.9782323 251\n",
      "Bluestone Lane DUMBO Café 55 Prospect St, Brooklyn 4.3 40.7008302 -73.9883345 431\n",
      "Casella Bagel Coffee Shop 66 Willoughby St, Brooklyn 4.3 40.6920868 -73.9860374 98\n",
      "Konditori 114 Smith St, Brooklyn 4.2 40.6878333 -73.9898417 224\n",
      "Kos Kaffe 251 5th Ave, Brooklyn 4.2 40.6746676 -73.9815249 251\n",
      "Cobble Hill Coffeeshop 314 Court St, Brooklyn 4.2 40.6834534 -73.9955585 217\n",
      "Seeds of love 421 Court St, Brooklyn 4.1 40.6788988 -73.9973881 35\n",
      "Panera Bread 345 Adams St, Brooklyn 4 40.6926023 -73.9884768 872\n",
      "Starbucks 67 Front St, Brooklyn 4 40.702668 -73.990814 727\n",
      "Stone Street Coffee Company 129 9th St, Brooklyn 4 40.6725607 -73.9927822 50\n"
     ]
    }
   ],
   "source": [
    "# sort by rating\n",
    "jarray = []\n",
    "for name, rating in reversed(sorted(ratings.items(), key=lambda item: item[1])):\n",
    "    # print (rating, name, addresses[name])\n",
    "    jarray.append([name, addresses[name], rating, locations[name]['lat'], locations[name]['lng'], nratings[name]])\n",
    "\n",
    "for name, address, rating, lat, lng, nreviews in jarray:\n",
    "    print(name, address, rating, lat, lng, nreviews)"
   ]
  },
  {
   "cell_type": "code",
   "execution_count": 9,
   "metadata": {},
   "outputs": [
    {
     "data": {
      "application/vnd.jupyter.widget-view+json": {
       "model_id": "42479b467e07453683996a879a7b80ea",
       "version_major": 2,
       "version_minor": 0
      },
      "text/plain": [
       "Figure(layout=FigureLayout(border='1px solid black', height='800px', padding='1px', width='800px'))"
      ]
     },
     "metadata": {},
     "output_type": "display_data"
    }
   ],
   "source": [
    "markers = [(lat, lng) for name, address, rating, lat, lng, nreviews in jarray]\n",
    "\n",
    "marker_dict = [{'name': name, 'address': address, 'rating': rating, 'nratings': nreviews} for \n",
    "               name, address, rating, lat, lng, nreviews in jarray]\n",
    "\n",
    "info_box_template = \"\"\"\n",
    "<dl>\n",
    "<dt>Name</dt><dd>{name}</dd>\n",
    "<dt>Address</dt><dd>{address}</dd>\n",
    "<dt>Rating</dt><dd>{rating}</dd>\n",
    "<dt>Reviews</dt><dd>{nratings}</dd>\n",
    "</dl>\n",
    "\"\"\"\n",
    "marker_info = [info_box_template.format(**d_item) for d_item in marker_dict]\n",
    "\n",
    "marker_layer = gmaps.marker_layer(markers, info_box_content=marker_info)\n",
    "\n",
    "figure_layout = {\n",
    "    'width': '800px',\n",
    "    'height': '800px',\n",
    "    'border': '1px solid black',\n",
    "    'padding': '1px'\n",
    "}\n",
    "\n",
    "fig = gmaps.figure(layout=figure_layout, center=eval(mylocation), zoom_level=14)\n",
    "fig.add_layer(marker_layer)\n",
    "fig"
   ]
  },
  {
   "cell_type": "code",
   "execution_count": null,
   "metadata": {},
   "outputs": [],
   "source": []
  }
 ],
 "metadata": {
  "kernelspec": {
   "display_name": "Python 3",
   "language": "python",
   "name": "python3"
  },
  "language_info": {
   "codemirror_mode": {
    "name": "ipython",
    "version": 3
   },
   "file_extension": ".py",
   "mimetype": "text/x-python",
   "name": "python",
   "nbconvert_exporter": "python",
   "pygments_lexer": "ipython3",
   "version": "3.7.6"
  }
 },
 "nbformat": 4,
 "nbformat_minor": 2
}
