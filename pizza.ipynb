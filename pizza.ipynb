{
 "cells": [
  {
   "cell_type": "markdown",
   "metadata": {},
   "source": [
    "# Pizza pizza pizza\n",
    "\n",
    "Get top venues by keyword and location, querying Google, Yelp, Foursquare\n",
    "\n",
    "## 1. Intro\n",
    "### Motivation\n",
    " - Gmaps and Yelp GUIs sorting and filtering are limited.\n",
    " - Query all 3 services and bring merged results into sortable table and map widget\n",
    "\n",
    "### Google Maps setup\n",
    "\n",
    " - Needs a Google API key and gmaps python module\n",
    " - [Create Google Cloud credentials and give access to Places APIs](https://console.cloud.google.com/google/maps-apis/credentials) (also, restrict IP or set other restrictions)\n",
    " - `conda install -c conda-forge -y gmaps`\n",
    " - put key in `secrets/apikey.txt`\n",
    " - `gmaps` Jupyter nbextension to show maps in notebook, with marker pins etc.\n",
    "\n",
    "```\n",
    "conda install -c conda-forge -y jupyter_contrib_nbextensions\n",
    "jupyter nbextension enable --py gmaps\n",
    "jupyter notebook\n",
    "```\n",
    "\n",
    "### Yelp setup\n",
    " - needs Yelp API key and module\n",
    " - https://www.yelp.com/developers/documentation/v3\n",
    " - https://github.com/gfairchild/yelpapi\n",
    " - put key in `secrets/yelpkey.txt`\n",
    " \n",
    "### Foursquare setup\n",
    "- Needs Foursquare API key and module\n",
    "- https://developer.foursquare.com/docs/places-api/getting-started/\n",
    "- https://github.com/mLewisLogic/foursquare\n",
    "- OAuth id in `secrets/foursquare_id.txt`\n",
    "- OAuth secret in `secrets/foursquare_secret.txt`\n",
    "\n",
    "See `requirements.txt` for versions used, other requirements (requests, qgrid, folium, Flask)\n",
    "\n",
    "Was going to try OpenTable and TripAdvisor but their language seems to limit API key access to approved commercial partners.\n",
    "- https://dev.opentable.com/affiliate-partners/\n",
    "- https://www.tripadvisor.com/APIAccessSupport"
   ]
  },
  {
   "cell_type": "code",
   "execution_count": 641,
   "metadata": {},
   "outputs": [
    {
     "name": "stdout",
     "output_type": "stream",
     "text": [
      "numpy                1.19.2              \n",
      "pandas               1.1.3               \n",
      "ipywidgets           7.5.1               \n",
      "qgrid                1.3.1               \n",
      "sklearn              0.23.2              \n",
      "requests             2.24.0              \n",
      "geopy                2.0.0               \n",
      "gmaps                0.9.0               \n",
      "foursquare           1!2020.1.30         \n",
      "numpy                0.11.0              \n"
     ]
    }
   ],
   "source": [
    "import time\n",
    "from pprint import pprint\n",
    "import ipywidgets\n",
    "from ipywidgets import widgets, interact\n",
    "from itertools import product\n",
    "from os import path\n",
    "\n",
    "import multiprocessing\n",
    "from multiprocessing import Pool\n",
    "\n",
    "import tqdm\n",
    "from tqdm import tqdm\n",
    "\n",
    "import traceback\n",
    "import pdb\n",
    "\n",
    "import numpy as np\n",
    "import pandas as pd\n",
    "\n",
    "# cluster similar entities\n",
    "import pandas_dedupe\n",
    "\n",
    "import sklearn\n",
    "from sklearn.preprocessing import StandardScaler\n",
    "\n",
    "import requests, json \n",
    "\n",
    "import qgrid\n",
    "from qgrid import show_grid\n",
    "\n",
    "# convert coords to km using haversine distance \n",
    "import geopy\n",
    "from geopy.distance import distance\n",
    "\n",
    "import gmaps\n",
    "with open('secrets/apikey.txt') as f:\n",
    "    api_key = f.readline().strip()\n",
    "    f.close\n",
    "gmaps.configure(api_key=api_key)\n",
    "\n",
    "# https://github.com/gfairchild/yelpapi\n",
    "import yelpapi\n",
    "from yelpapi import YelpAPI\n",
    "with open('secrets/yelpkey.txt') as f:\n",
    "    yelp_key = f.readline().strip()\n",
    "    f.close\n",
    "yelp_api = YelpAPI(yelp_key)\n",
    "\n",
    "import foursquare\n",
    "from foursquare import Foursquare, FoursquareException\n",
    "with open('secrets/foursquare_id.txt') as f:\n",
    "    foursquare_id = f.readline().strip()\n",
    "    f.close\n",
    "with open('secrets/foursquare_secret.txt') as f:\n",
    "    foursquare_secret = f.readline().strip()\n",
    "    f.close\n",
    "\n",
    "# interactive maps\n",
    "import folium\n",
    "\n",
    "print(f\"numpy                {np.__version__:<20}\")\n",
    "print(f\"pandas               {pd.__version__:<20}\")\n",
    "print(f\"ipywidgets           {ipywidgets.__version__:<20}\")\n",
    "print(f\"qgrid                {qgrid.__version__:<20}\")\n",
    "print(f\"sklearn              {sklearn.__version__:<20}\")\n",
    "print(f\"requests             {requests.__version__:<20}\")\n",
    "print(f\"geopy                {geopy.__version__:<20}\")\n",
    "print(f\"gmaps                {gmaps.__version__:<20}\")\n",
    "print(f\"foursquare           {foursquare.__version__:<20}\")\n",
    "print(f\"numpy                {folium.__version__:<20}\")\n"
   ]
  },
  {
   "cell_type": "markdown",
   "metadata": {},
   "source": [
    "## 2. Global setup, keyword, location"
   ]
  },
  {
   "cell_type": "code",
   "execution_count": 642,
   "metadata": {},
   "outputs": [
    {
     "data": {
      "application/vnd.jupyter.widget-view+json": {
       "model_id": "82081969763544e29386058cfb697290",
       "version_major": 2,
       "version_minor": 0
      },
      "text/plain": [
       "interactive(children=(Dropdown(description='Search term:  ', options=(('Pizza', 'pizza'), ('Coffee', 'coffee')…"
      ]
     },
     "metadata": {},
     "output_type": "display_data"
    }
   ],
   "source": [
    "# pick a search term\n",
    "keyword_options = [('Pizza', 'pizza'), ('Coffee', 'coffee'), ('Ice Cream', 'icecream')]\n",
    "keyword = 'pizza'\n",
    "\n",
    "@interact\n",
    "def get_kw(kw = widgets.Dropdown(\n",
    "    options=keyword_options,\n",
    "    value=keyword,\n",
    "    description='Search term:  ',\n",
    "    disabled=False,\n",
    ")):\n",
    "    global keyword\n",
    "    keyword = kw\n",
    "    return None"
   ]
  },
  {
   "cell_type": "code",
   "execution_count": 643,
   "metadata": {},
   "outputs": [
    {
     "data": {
      "application/vnd.jupyter.widget-view+json": {
       "model_id": "344ce4450bb34bb98f6a2817e7ce39e0",
       "version_major": 2,
       "version_minor": 0
      },
      "text/plain": [
       "interactive(children=(Dropdown(description='Location:', options=(('Midtown', '40.7484, -73.9857'), ('Downtown'…"
      ]
     },
     "metadata": {},
     "output_type": "display_data"
    }
   ],
   "source": [
    "# pick a location\n",
    "# location = '40.7484, -73.9857'\n",
    "# location_coords = tuple(eval(location))\n",
    "location_options = [('Midtown', '40.7484, -73.9857'),\n",
    "                    ('Downtown', '40.7077443,-74.0139089'),\n",
    "                    ('Upper East Side', '40.7711473,-73.9661166'),\n",
    "                    ('Upper West Side', '40.778794,-73.984257'),\n",
    "                    ('Brooklyn Heights', '40.6915812,-73.9954095'), \n",
    "                    ('Grand Army Plaza', '40.671872,-73.972544'),\n",
    "                    ('Bay Ridge', '40.6292633,-74.0309554'),\n",
    "                    ('Williamsburg', '40.7144609,-73.9553373'),\n",
    "                  ]\n",
    "\n",
    "@interact\n",
    "def get_loc(loc = widgets.Dropdown(\n",
    "    options=location_options,\n",
    "    # value=myloc,\n",
    "    description='Location:',\n",
    ")):\n",
    "    global location\n",
    "    global location_coords\n",
    "    location = loc\n",
    "    location_coords = tuple(eval(loc))\n",
    "    return None"
   ]
  },
  {
   "cell_type": "code",
   "execution_count": 644,
   "metadata": {},
   "outputs": [],
   "source": [
    "# location='40.655001,-74.0059557'\n",
    "# location_coords = tuple(eval(location))\n",
    "# location, location_coords\n",
    "\n",
    "# test_pickle_filename = keyword + \"_\" + location.replace(' ', '').lower() + \".pkl\"\n",
    "# test_pickle_filename"
   ]
  },
  {
   "cell_type": "code",
   "execution_count": 645,
   "metadata": {},
   "outputs": [
    {
     "name": "stdout",
     "output_type": "stream",
     "text": [
      "('Pizza', 'pizza') ('Midtown', '40.7484, -73.9857')\n",
      "pizza_midtown.pkl\n",
      "('Pizza', 'pizza') ('Downtown', '40.7077443,-74.0139089')\n",
      "pizza_downtown.pkl\n",
      "('Pizza', 'pizza') ('Upper East Side', '40.7711473,-73.9661166')\n",
      "pizza_uppereastside.pkl\n",
      "('Pizza', 'pizza') ('Upper West Side', '40.778794,-73.984257')\n",
      "pizza_upperwestside.pkl\n",
      "('Pizza', 'pizza') ('Brooklyn Heights', '40.6915812,-73.9954095')\n",
      "pizza_brooklynheights.pkl\n",
      "('Pizza', 'pizza') ('Grand Army Plaza', '40.671872,-73.972544')\n",
      "pizza_grandarmyplaza.pkl\n",
      "('Pizza', 'pizza') ('Bay Ridge', '40.6292633,-74.0309554')\n",
      "pizza_bayridge.pkl\n",
      "('Pizza', 'pizza') ('Williamsburg', '40.7144609,-73.9553373')\n",
      "pizza_williamsburg.pkl\n",
      "('Coffee', 'coffee') ('Midtown', '40.7484, -73.9857')\n",
      "coffee_midtown.pkl\n",
      "('Coffee', 'coffee') ('Downtown', '40.7077443,-74.0139089')\n",
      "coffee_downtown.pkl\n",
      "('Coffee', 'coffee') ('Upper East Side', '40.7711473,-73.9661166')\n",
      "coffee_uppereastside.pkl\n",
      "('Coffee', 'coffee') ('Upper West Side', '40.778794,-73.984257')\n",
      "coffee_upperwestside.pkl\n",
      "('Coffee', 'coffee') ('Brooklyn Heights', '40.6915812,-73.9954095')\n",
      "coffee_brooklynheights.pkl\n",
      "('Coffee', 'coffee') ('Grand Army Plaza', '40.671872,-73.972544')\n",
      "coffee_grandarmyplaza.pkl\n",
      "('Coffee', 'coffee') ('Bay Ridge', '40.6292633,-74.0309554')\n",
      "coffee_bayridge.pkl\n",
      "('Coffee', 'coffee') ('Williamsburg', '40.7144609,-73.9553373')\n",
      "coffee_williamsburg.pkl\n",
      "('Ice Cream', 'icecream') ('Midtown', '40.7484, -73.9857')\n",
      "icecream_midtown.pkl\n",
      "('Ice Cream', 'icecream') ('Downtown', '40.7077443,-74.0139089')\n",
      "icecream_downtown.pkl\n",
      "('Ice Cream', 'icecream') ('Upper East Side', '40.7711473,-73.9661166')\n",
      "icecream_uppereastside.pkl\n",
      "('Ice Cream', 'icecream') ('Upper West Side', '40.778794,-73.984257')\n",
      "icecream_upperwestside.pkl\n",
      "('Ice Cream', 'icecream') ('Brooklyn Heights', '40.6915812,-73.9954095')\n",
      "icecream_brooklynheights.pkl\n",
      "('Ice Cream', 'icecream') ('Grand Army Plaza', '40.671872,-73.972544')\n",
      "icecream_grandarmyplaza.pkl\n",
      "('Ice Cream', 'icecream') ('Bay Ridge', '40.6292633,-74.0309554')\n",
      "icecream_bayridge.pkl\n",
      "Bay Ridge icecream 40.6292633,-74.0309554 (40.6292633, -74.0309554)\n",
      "icecream_bayridge.pkl\n"
     ]
    }
   ],
   "source": [
    "# pick anything we don't have a pickle file for\n",
    "\n",
    "for test_keyword, test_location in product(keyword_options, location_options):\n",
    "    print(test_keyword, test_location)\n",
    "    keyword = test_keyword[1]\n",
    "    location_name = test_location[0]\n",
    "    location = test_location[1]\n",
    "    location_coords = tuple(eval(test_location[1]))\n",
    "    test_pickle_filename = keyword + \"_\" + location_name.replace(' ', '').lower() + \".pkl\"\n",
    "    print(test_pickle_filename)\n",
    "    if not path.exists(test_pickle_filename):\n",
    "        break\n",
    "        \n",
    "print(location_name, keyword, location, location_coords)\n",
    "print(test_pickle_filename)"
   ]
  },
  {
   "cell_type": "markdown",
   "metadata": {},
   "source": [
    "## 3. Google Maps"
   ]
  },
  {
   "cell_type": "code",
   "execution_count": 646,
   "metadata": {},
   "outputs": [
    {
     "data": {
      "application/vnd.jupyter.widget-view+json": {
       "model_id": "7eb2f3b2536447f6bf32611612ae6db1",
       "version_major": 2,
       "version_minor": 0
      },
      "text/plain": [
       "Figure(layout=FigureLayout(border='1px solid black', height='800px', padding='1px', width='800px'))"
      ]
     },
     "metadata": {},
     "output_type": "display_data"
    }
   ],
   "source": [
    "# gmap of chosen location\n",
    "figure_layout = {\n",
    "    'width': '800px',\n",
    "    'height': '800px',\n",
    "    'border': '1px solid black',\n",
    "    'padding': '1px'\n",
    "}\n",
    "fig = gmaps.figure(center=location_coords, zoom_level=12, layout=figure_layout)\n",
    "fig.add_layer(gmaps.marker_layer([location_coords]))\n",
    "fig"
   ]
  },
  {
   "cell_type": "code",
   "execution_count": 647,
   "metadata": {},
   "outputs": [],
   "source": [
    "# global options for all search services APIs\n",
    "MIN_USER_RATINGS = 20\n",
    "MIN_RATING = 0\n",
    "NRESULTS = 50\n",
    "RADIUS = 1000\n"
   ]
  },
  {
   "cell_type": "code",
   "execution_count": 648,
   "metadata": {},
   "outputs": [],
   "source": [
    "# gmaps options\n",
    "GMAPS_URL = \"https://maps.googleapis.com/maps/api/place/nearbysearch/json\"\n",
    "# https://developers.google.com/places/web-service/search#TextSearchRequests\n",
    "#https://developers.google.com/places/web-service/supported_types\n",
    "# rankby='prominence'\n",
    "rankby='distance'\n",
    "ltype='establishment'\n"
   ]
  },
  {
   "cell_type": "code",
   "execution_count": 649,
   "metadata": {},
   "outputs": [],
   "source": [
    "def gmaps_get_first_page(api_key, location, **kwargs):\n",
    "    \"\"\"get first page of results from gmaps using api_key, location, kwargs for search spec\"\"\"\n",
    "    # use either rankby or radius kwarg\n",
    "    request_url = GMAPS_URL + '?key=' + api_key\n",
    "    request_url += '&location=' + location\n",
    "    for name, val in kwargs.items():\n",
    "        request_url += '&' + name + '=' + str(val)\n",
    "    r = requests.get(request_url)\n",
    "    j = r.json()\n",
    "    return j\n",
    "\n",
    "\n",
    "def gmaps_get_next_page(api_key, next_page_token):\n",
    "    \"\"\"get next search engine results page page using search token, waiting until available\"\"\"\n",
    "    r = requests.get(GMAPS_URL + '?pagetoken=' + next_page_token +\n",
    "                        '&key=' + api_key)\n",
    "    for i in range(10):\n",
    "        j = r.json()\n",
    "        if not j['results']: # wait for next page to be available\n",
    "            time.sleep(5)\n",
    "            continue\n",
    "        else:\n",
    "            return j\n",
    "\n",
    "\n",
    "def gmaps_get_all_df(api_key, location, **kwargs):\n",
    "    \"\"\"return dataframe of all results using api_key, location, search kwargs\"\"\"\n",
    "    # get first page\n",
    "    j = gmaps_get_first_page(api_key, location, **kwargs)\n",
    "    venues_df = pd.json_normalize(j['results'])\n",
    "\n",
    "    # get pages while additional pages available\n",
    "    while 'next_page_token' in j:\n",
    "        next_page_token = j['next_page_token']\n",
    "        time.sleep(5)\n",
    "        j = gmaps_get_next_page(api_key, next_page_token)\n",
    "        venues_df = venues_df.append(pd.json_normalize(j['results']))\n",
    "        \n",
    "    return venues_df\n",
    "\n",
    "\n",
    "def gmaps_get_df(location_coords, keyword):\n",
    "\n",
    "    # use either rankby or radius\n",
    "    location = \"%.7f,%.7f\" % location_coords\n",
    "    gmaps_df = gmaps_get_all_df(api_key, location, keyword=keyword, ltype=ltype, radius=RADIUS)\n",
    "    if gmaps_df.empty:\n",
    "        return None\n",
    "    else:\n",
    "        # gmaps_get_df(api_key, location, keyword=keyword, ltype=ltype, radius=RADIUS)\n",
    "        gmaps_df = gmaps_df.loc[(gmaps_df['user_ratings_total'] >= MIN_USER_RATINGS) & (gmaps_df['rating'] >= MIN_RATING)] \\\n",
    "                           .sort_values(['rating', 'user_ratings_total'], ascending=False) \\\n",
    "                           .reset_index(drop=True)\n",
    "        gmaps_df = gmaps_df[['name', 'vicinity', 'rating', 'user_ratings_total', 'geometry.location.lat', 'geometry.location.lng']]\n",
    "        gmaps_df.columns = ['name', 'address', 'rating', 'nratings', 'lat', 'lng']\n",
    "        # drop trailing \", Brooklyn\"\n",
    "        gmaps_df['address'] = gmaps_df['address'].apply(lambda address: \" \".join(address.split(',')[:-1]))\n",
    "        gmaps_df['distance'] = gmaps_df.apply(lambda row: distance((row['lat'], row['lng']), location_coords).km,\n",
    "                                              axis=1)\n",
    "        gmaps_df['category'] = keyword\n",
    "        return gmaps_df\n"
   ]
  },
  {
   "cell_type": "code",
   "execution_count": 650,
   "metadata": {},
   "outputs": [
    {
     "name": "stdout",
     "output_type": "stream",
     "text": [
      "CPU times: user 27.6 ms, sys: 4.65 ms, total: 32.2 ms\n",
      "Wall time: 879 ms\n"
     ]
    },
    {
     "data": {
      "text/html": [
       "<div>\n",
       "<style scoped>\n",
       "    .dataframe tbody tr th:only-of-type {\n",
       "        vertical-align: middle;\n",
       "    }\n",
       "\n",
       "    .dataframe tbody tr th {\n",
       "        vertical-align: top;\n",
       "    }\n",
       "\n",
       "    .dataframe thead th {\n",
       "        text-align: right;\n",
       "    }\n",
       "</style>\n",
       "<table border=\"1\" class=\"dataframe\">\n",
       "  <thead>\n",
       "    <tr style=\"text-align: right;\">\n",
       "      <th></th>\n",
       "      <th>name</th>\n",
       "      <th>address</th>\n",
       "      <th>rating</th>\n",
       "      <th>nratings</th>\n",
       "      <th>lat</th>\n",
       "      <th>lng</th>\n",
       "      <th>distance</th>\n",
       "      <th>category</th>\n",
       "    </tr>\n",
       "  </thead>\n",
       "  <tbody>\n",
       "    <tr>\n",
       "      <th>0</th>\n",
       "      <td>Carvel</td>\n",
       "      <td>7517 3rd Ave</td>\n",
       "      <td>4.8</td>\n",
       "      <td>46</td>\n",
       "      <td>40.630951</td>\n",
       "      <td>-74.027751</td>\n",
       "      <td>0.329531</td>\n",
       "      <td>icecream</td>\n",
       "    </tr>\n",
       "    <tr>\n",
       "      <th>1</th>\n",
       "      <td>Anopoli</td>\n",
       "      <td>6920 3rd Ave #1351</td>\n",
       "      <td>4.5</td>\n",
       "      <td>290</td>\n",
       "      <td>40.635278</td>\n",
       "      <td>-74.026389</td>\n",
       "      <td>0.771576</td>\n",
       "      <td>icecream</td>\n",
       "    </tr>\n",
       "    <tr>\n",
       "      <th>2</th>\n",
       "      <td>Carvel</td>\n",
       "      <td>8612 3rd Ave</td>\n",
       "      <td>3.7</td>\n",
       "      <td>22</td>\n",
       "      <td>40.623157</td>\n",
       "      <td>-74.031402</td>\n",
       "      <td>0.679102</td>\n",
       "      <td>icecream</td>\n",
       "    </tr>\n",
       "  </tbody>\n",
       "</table>\n",
       "</div>"
      ],
      "text/plain": [
       "      name             address  rating  nratings        lat        lng  \\\n",
       "0   Carvel        7517 3rd Ave     4.8        46  40.630951 -74.027751   \n",
       "1  Anopoli  6920 3rd Ave #1351     4.5       290  40.635278 -74.026389   \n",
       "2   Carvel        8612 3rd Ave     3.7        22  40.623157 -74.031402   \n",
       "\n",
       "   distance  category  \n",
       "0  0.329531  icecream  \n",
       "1  0.771576  icecream  \n",
       "2  0.679102  icecream  "
      ]
     },
     "execution_count": 650,
     "metadata": {},
     "output_type": "execute_result"
    }
   ],
   "source": [
    "%%time\n",
    "gmaps_df = gmaps_get_df(location_coords, keyword)\n",
    "gmaps_df = gmaps_df.loc[(gmaps_df['nratings'] >= MIN_USER_RATINGS) & (gmaps_df['rating'] >= MIN_RATING)] \\\n",
    "        .sort_values(['rating', 'nratings'], ascending=False) \\\n",
    "        .reset_index(drop=True)\n",
    "gmaps_df.to_pickle('gmaps_' + test_pickle_filename)\n",
    "gmaps_df\n"
   ]
  },
  {
   "cell_type": "code",
   "execution_count": 651,
   "metadata": {},
   "outputs": [
    {
     "data": {
      "application/vnd.jupyter.widget-view+json": {
       "model_id": "80d3ef2a802c4216b99794c5bd56b0cf",
       "version_major": 2,
       "version_minor": 0
      },
      "text/plain": [
       "QgridWidget(grid_options={'fullWidthRows': True, 'syncColumnCellResize': True, 'forceFitColumns': True, 'defau…"
      ]
     },
     "metadata": {},
     "output_type": "display_data"
    }
   ],
   "source": [
    "# sort grid by clicking on header (can also click on filter button)\n",
    "show_grid(gmaps_df)"
   ]
  },
  {
   "cell_type": "code",
   "execution_count": 652,
   "metadata": {},
   "outputs": [
    {
     "data": {
      "application/vnd.jupyter.widget-view+json": {
       "model_id": "84319c3cb4044417bbdf4460b038307b",
       "version_major": 2,
       "version_minor": 0
      },
      "text/plain": [
       "Figure(layout=FigureLayout(border='1px solid black', height='800px', padding='1px', width='800px'))"
      ]
     },
     "metadata": {},
     "output_type": "display_data"
    }
   ],
   "source": [
    "# plot on google map\n",
    "\n",
    "markers = [(row.lat, row.lng) for row in gmaps_df.itertuples()]\n",
    "marker_hover = [\"%s: %s (%s)\" % (row.name, row.rating, row.nratings) for row in gmaps_df.itertuples()]\n",
    "info_box_template = \"\"\"\n",
    "<dl>\n",
    "<dt>Name</dt><dd>{name}</dd>\n",
    "<dt>Address</dt><dd>{address}</dd>\n",
    "<dt>Google rating</dt><dd>{rating}</dd>\n",
    "<dt>Google reviews</dt><dd>{nratings}</dd>\n",
    "</dl>\n",
    "\"\"\"\n",
    "marker_info = [info_box_template.format(**row) for i, row in gmaps_df.iterrows()]\n",
    "\n",
    "marker_layer = gmaps.marker_layer(markers, hover_text=marker_hover, info_box_content=marker_info)\n",
    "\n",
    "figure_layout = {\n",
    "    'width': '800px',\n",
    "    'height': '800px',\n",
    "    'border': '1px solid black',\n",
    "    'padding': '1px'\n",
    "}\n",
    "\n",
    "fig = gmaps.figure(layout=figure_layout, center=eval(location), zoom_level=14)\n",
    "fig.add_layer(marker_layer)\n",
    "fig"
   ]
  },
  {
   "cell_type": "code",
   "execution_count": 653,
   "metadata": {
    "scrolled": false
   },
   "outputs": [
    {
     "data": {
      "text/html": [
       "<div style=\"width:100%;\"><div style=\"position:relative;width:100%;height:0;padding-bottom:60%;\"><span style=\"color:#565656\">Make this Notebook Trusted to load map: File -> Trust Notebook</span><iframe src=\"about:blank\" style=\"position:absolute;width:100%;height:100%;left:0;top:0;border:none !important;\" data-html=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 onload=\"this.contentDocument.open();this.contentDocument.write(atob(this.getAttribute('data-html')));this.contentDocument.close();\" allowfullscreen webkitallowfullscreen mozallowfullscreen></iframe></div></div>"
      ],
      "text/plain": [
       "<folium.folium.Map at 0x7fe4c265f090>"
      ]
     },
     "execution_count": 653,
     "metadata": {},
     "output_type": "execute_result"
    }
   ],
   "source": [
    "folium_markers = [(a[0], a[1], b) for a, b in zip(markers, marker_info)]\n",
    "\n",
    "venues_map = folium.Map(location=[*location_coords], zoom_start=14)\n",
    "for lat, lng, label in folium_markers:\n",
    "    folium.CircleMarker(\n",
    "        [lat, lng],\n",
    "        radius=8,\n",
    "        color='blue',\n",
    "        tooltip=label,\n",
    "        fill = True,\n",
    "        fill_color='blue',\n",
    "        fill_opacity=0.5\n",
    "    ).add_to(venues_map)\n",
    "    \n",
    "venues_map"
   ]
  },
  {
   "cell_type": "markdown",
   "metadata": {},
   "source": [
    "## 4. Yelp"
   ]
  },
  {
   "cell_type": "code",
   "execution_count": 654,
   "metadata": {},
   "outputs": [
    {
     "data": {
      "text/html": [
       "<div>\n",
       "<style scoped>\n",
       "    .dataframe tbody tr th:only-of-type {\n",
       "        vertical-align: middle;\n",
       "    }\n",
       "\n",
       "    .dataframe tbody tr th {\n",
       "        vertical-align: top;\n",
       "    }\n",
       "\n",
       "    .dataframe thead th {\n",
       "        text-align: right;\n",
       "    }\n",
       "</style>\n",
       "<table border=\"1\" class=\"dataframe\">\n",
       "  <thead>\n",
       "    <tr style=\"text-align: right;\">\n",
       "      <th></th>\n",
       "      <th>name</th>\n",
       "      <th>address</th>\n",
       "      <th>rating</th>\n",
       "      <th>nratings</th>\n",
       "      <th>lat</th>\n",
       "      <th>lng</th>\n",
       "      <th>url</th>\n",
       "      <th>distance</th>\n",
       "      <th>category</th>\n",
       "    </tr>\n",
       "  </thead>\n",
       "  <tbody>\n",
       "    <tr>\n",
       "      <th>0</th>\n",
       "      <td>Antepli Baklava</td>\n",
       "      <td>7216 5th Ave</td>\n",
       "      <td>4.5</td>\n",
       "      <td>65</td>\n",
       "      <td>40.631320</td>\n",
       "      <td>-74.022060</td>\n",
       "      <td>https://www.yelp.com/biz/antepli-baklava-brook...</td>\n",
       "      <td>0.786475</td>\n",
       "      <td>icecream</td>\n",
       "    </tr>\n",
       "    <tr>\n",
       "      <th>1</th>\n",
       "      <td>Snowdays</td>\n",
       "      <td>7025 3rd Ave</td>\n",
       "      <td>4.5</td>\n",
       "      <td>42</td>\n",
       "      <td>40.634160</td>\n",
       "      <td>-74.026520</td>\n",
       "      <td>https://www.yelp.com/biz/snowdays-brooklyn-3?a...</td>\n",
       "      <td>0.660670</td>\n",
       "      <td>icecream</td>\n",
       "    </tr>\n",
       "    <tr>\n",
       "      <th>2</th>\n",
       "      <td>Yosweets Frozen Yogurt</td>\n",
       "      <td>8410 5th Ave</td>\n",
       "      <td>4.0</td>\n",
       "      <td>29</td>\n",
       "      <td>40.622721</td>\n",
       "      <td>-74.025733</td>\n",
       "      <td>https://www.yelp.com/biz/yosweets-frozen-yogur...</td>\n",
       "      <td>0.850309</td>\n",
       "      <td>icecream</td>\n",
       "    </tr>\n",
       "    <tr>\n",
       "      <th>3</th>\n",
       "      <td>Anopoli Ice Cream Parlor and Family Restaurant</td>\n",
       "      <td>6920 3rd Ave</td>\n",
       "      <td>3.5</td>\n",
       "      <td>163</td>\n",
       "      <td>40.635274</td>\n",
       "      <td>-74.026368</td>\n",
       "      <td>https://www.yelp.com/biz/anopoli-ice-cream-par...</td>\n",
       "      <td>0.772122</td>\n",
       "      <td>icecream</td>\n",
       "    </tr>\n",
       "    <tr>\n",
       "      <th>4</th>\n",
       "      <td>Carvel Cinnabon</td>\n",
       "      <td>8612 3rd Ave</td>\n",
       "      <td>3.5</td>\n",
       "      <td>30</td>\n",
       "      <td>40.623140</td>\n",
       "      <td>-74.031370</td>\n",
       "      <td>https://www.yelp.com/biz/carvel-cinnabon-brook...</td>\n",
       "      <td>0.680876</td>\n",
       "      <td>icecream</td>\n",
       "    </tr>\n",
       "  </tbody>\n",
       "</table>\n",
       "</div>"
      ],
      "text/plain": [
       "                                             name       address  rating  \\\n",
       "0                                 Antepli Baklava  7216 5th Ave     4.5   \n",
       "1                                        Snowdays  7025 3rd Ave     4.5   \n",
       "2                          Yosweets Frozen Yogurt  8410 5th Ave     4.0   \n",
       "3  Anopoli Ice Cream Parlor and Family Restaurant  6920 3rd Ave     3.5   \n",
       "4                                 Carvel Cinnabon  8612 3rd Ave     3.5   \n",
       "\n",
       "   nratings        lat        lng  \\\n",
       "0        65  40.631320 -74.022060   \n",
       "1        42  40.634160 -74.026520   \n",
       "2        29  40.622721 -74.025733   \n",
       "3       163  40.635274 -74.026368   \n",
       "4        30  40.623140 -74.031370   \n",
       "\n",
       "                                                 url  distance  category  \n",
       "0  https://www.yelp.com/biz/antepli-baklava-brook...  0.786475  icecream  \n",
       "1  https://www.yelp.com/biz/snowdays-brooklyn-3?a...  0.660670  icecream  \n",
       "2  https://www.yelp.com/biz/yosweets-frozen-yogur...  0.850309  icecream  \n",
       "3  https://www.yelp.com/biz/anopoli-ice-cream-par...  0.772122  icecream  \n",
       "4  https://www.yelp.com/biz/carvel-cinnabon-brook...  0.680876  icecream  "
      ]
     },
     "execution_count": 654,
     "metadata": {},
     "output_type": "execute_result"
    }
   ],
   "source": [
    "def yelp_get_df(location_coords, keyword):\n",
    "    lat, lng = location_coords\n",
    "    response = yelp_api.search_query(categories=keyword, latitude=lat, longitude=lng, \n",
    "                                     radius=RADIUS, sort_by=rankby, limit=NRESULTS)\n",
    "\n",
    "    yelp_df = pd.json_normalize(response['businesses'])\n",
    "    if not yelp_df.empty:    \n",
    "        yelp_df = yelp_df.loc[(yelp_df['review_count'] >= MIN_USER_RATINGS) & (yelp_df['rating'] >= MIN_RATING)] \\\n",
    "                         .sort_values(['rating', 'review_count'], ascending=False) \\\n",
    "                         .reset_index(drop=True)\n",
    "        display_columns = ['name', 'location.address1', 'rating', 'review_count', 'coordinates.latitude', 'coordinates.longitude', 'url']\n",
    "        yelp_df = yelp_df[display_columns]\n",
    "        yelp_df.columns = ['name', 'address', 'rating', 'nratings', 'lat', 'lng', 'url']\n",
    "        yelp_df['distance'] = yelp_df.apply(lambda row: distance((row['lat'], row['lng']), location_coords).km,\n",
    "                                              axis=1)\n",
    "        yelp_df['category'] = keyword\n",
    "        \n",
    "        if yelp_df.empty:\n",
    "            return None\n",
    "        else:\n",
    "            return yelp_df\n",
    "    else:\n",
    "        return None\n",
    "\n",
    "yelp_df = yelp_get_df(location_coords, keyword)\n",
    "yelp_df"
   ]
  },
  {
   "cell_type": "code",
   "execution_count": 655,
   "metadata": {},
   "outputs": [
    {
     "data": {
      "application/vnd.jupyter.widget-view+json": {
       "model_id": "4e71be9606f84b13b9802e50005543ff",
       "version_major": 2,
       "version_minor": 0
      },
      "text/plain": [
       "QgridWidget(grid_options={'fullWidthRows': True, 'syncColumnCellResize': True, 'forceFitColumns': True, 'defau…"
      ]
     },
     "metadata": {},
     "output_type": "display_data"
    }
   ],
   "source": [
    "# test_pickle_filename = 'z.pkl'\n",
    "yelp_df.to_pickle('yelp_' + test_pickle_filename)\n",
    "show_grid(yelp_df)"
   ]
  },
  {
   "cell_type": "code",
   "execution_count": 656,
   "metadata": {},
   "outputs": [
    {
     "data": {
      "application/vnd.jupyter.widget-view+json": {
       "model_id": "9aaa1ca8a1a0433d8fe9d3f6d51c0c6b",
       "version_major": 2,
       "version_minor": 0
      },
      "text/plain": [
       "Figure(layout=FigureLayout(border='1px solid black', height='800px', padding='1px', width='800px'))"
      ]
     },
     "metadata": {},
     "output_type": "display_data"
    }
   ],
   "source": [
    "markers = [(row.lat, row.lng) for row in yelp_df.itertuples()]\n",
    "marker_hover = [\"%s: %s (%s)\" % (row.name, row.rating, row.nratings) for row in yelp_df.itertuples()]\n",
    "\n",
    "info_box_template = \"\"\"\n",
    "<dl>\n",
    "<dt>Name</dt><dd>{name}</dd>\n",
    "<dt>Address</dt><dd>{address}</dd>\n",
    "<dt>Yelp rating</dt><dd>{rating}</dd>\n",
    "<dt>Yelp reviews</dt><dd>{nratings}</dd>\n",
    "</dl>\n",
    "\"\"\"\n",
    "\n",
    "marker_info = [info_box_template.format(**row) for i, row in yelp_df.iterrows()]\n",
    "\n",
    "marker_layer = gmaps.marker_layer(markers, hover_text=marker_hover, info_box_content=marker_info)\n",
    "\n",
    "figure_layout = {\n",
    "    'width': '800px',\n",
    "    'height': '800px',\n",
    "    'border': '1px solid black',\n",
    "    'padding': '1px'\n",
    "}\n",
    "\n",
    "fig = gmaps.figure(layout=figure_layout, center=location_coords, zoom_level=14)\n",
    "fig.add_layer(marker_layer)\n",
    "fig"
   ]
  },
  {
   "cell_type": "code",
   "execution_count": 657,
   "metadata": {},
   "outputs": [
    {
     "data": {
      "text/html": [
       "<div style=\"width:100%;\"><div style=\"position:relative;width:100%;height:0;padding-bottom:60%;\"><span style=\"color:#565656\">Make this Notebook Trusted to load map: File -> Trust Notebook</span><iframe src=\"about:blank\" style=\"position:absolute;width:100%;height:100%;left:0;top:0;border:none !important;\" data-html=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 onload=\"this.contentDocument.open();this.contentDocument.write(atob(this.getAttribute('data-html')));this.contentDocument.close();\" allowfullscreen webkitallowfullscreen mozallowfullscreen></iframe></div></div>"
      ],
      "text/plain": [
       "<folium.folium.Map at 0x7fe4c2712e90>"
      ]
     },
     "execution_count": 657,
     "metadata": {},
     "output_type": "execute_result"
    }
   ],
   "source": [
    "folium_markers = [(a[0], a[1], b) for a, b in zip(markers, marker_info)]\n",
    "\n",
    "venues_map = folium.Map(location=[*location_coords], zoom_start=14)\n",
    "for lat, lng, label in folium_markers:\n",
    "    folium.CircleMarker(\n",
    "        [lat, lng],\n",
    "        radius=8,\n",
    "        color='blue',\n",
    "        tooltip=label,\n",
    "        fill = True,\n",
    "        fill_color='blue',\n",
    "        fill_opacity=0.5\n",
    "    ).add_to(venues_map)\n",
    "venues_map"
   ]
  },
  {
   "cell_type": "markdown",
   "metadata": {},
   "source": [
    "## 5. Foursquare"
   ]
  },
  {
   "cell_type": "code",
   "execution_count": 658,
   "metadata": {},
   "outputs": [
    {
     "name": "stderr",
     "output_type": "stream",
     "text": [
      "ERROR:foursquare:Unknown error. meta: {'code': 429, 'errorType': 'quota_exceeded', 'errorDetail': 'Quota exceeded', 'requestId': '5fc5651c6db05f18684b9693'}\n",
      "ERROR:foursquare:Unknown error. meta: {'code': 429, 'errorType': 'quota_exceeded', 'errorDetail': 'Quota exceeded', 'requestId': '5fc5651d0076b17a22cff7bd'}\n",
      "ERROR:foursquare:Unknown error. meta: {'code': 429, 'errorType': 'quota_exceeded', 'errorDetail': 'Quota exceeded', 'requestId': '5fc5651e6db05f18684b9f88'}\n"
     ]
    },
    {
     "name": "stdout",
     "output_type": "stream",
     "text": [
      "Foursquare exception <class 'foursquare.FoursquareException'> Unknown error. meta: {'code': 429, 'errorType': 'quota_exceeded', 'errorDetail': 'Quota exceeded', 'requestId': '5fc5651e6db05f18684b9f88'}\n"
     ]
    },
    {
     "ename": "UnboundLocalError",
     "evalue": "local variable 'venue_rating' referenced before assignment",
     "output_type": "error",
     "traceback": [
      "\u001b[0;31m---------------------------------------------------------------------------\u001b[0m",
      "\u001b[0;31mUnboundLocalError\u001b[0m                         Traceback (most recent call last)",
      "\u001b[0;32m<ipython-input-658-d6179912da13>\u001b[0m in \u001b[0;36m<module>\u001b[0;34m\u001b[0m\n\u001b[1;32m     56\u001b[0m         \u001b[0;32mreturn\u001b[0m \u001b[0mfoursquare_df\u001b[0m\u001b[0;34m\u001b[0m\u001b[0;34m\u001b[0m\u001b[0m\n\u001b[1;32m     57\u001b[0m \u001b[0;34m\u001b[0m\u001b[0m\n\u001b[0;32m---> 58\u001b[0;31m \u001b[0mfoursquare_df\u001b[0m \u001b[0;34m=\u001b[0m \u001b[0mfoursquare_get_df\u001b[0m\u001b[0;34m(\u001b[0m\u001b[0mlocation_coords\u001b[0m\u001b[0;34m,\u001b[0m \u001b[0mkeyword\u001b[0m\u001b[0;34m)\u001b[0m\u001b[0;34m\u001b[0m\u001b[0;34m\u001b[0m\u001b[0m\n\u001b[0m\u001b[1;32m     59\u001b[0m \u001b[0mfoursquare_df\u001b[0m\u001b[0;34m\u001b[0m\u001b[0;34m\u001b[0m\u001b[0m\n",
      "\u001b[0;32m<ipython-input-658-d6179912da13>\u001b[0m in \u001b[0;36mfoursquare_get_df\u001b[0;34m(location_coords, keyword)\u001b[0m\n\u001b[1;32m     36\u001b[0m             \u001b[0;31m# print(\"No rating for %s\" % venue_name)\u001b[0m\u001b[0;34m\u001b[0m\u001b[0;34m\u001b[0m\u001b[0;34m\u001b[0m\u001b[0m\n\u001b[1;32m     37\u001b[0m \u001b[0;34m\u001b[0m\u001b[0m\n\u001b[0;32m---> 38\u001b[0;31m         \u001b[0mfoursquare_array\u001b[0m\u001b[0;34m.\u001b[0m\u001b[0mappend\u001b[0m\u001b[0;34m(\u001b[0m\u001b[0;34m[\u001b[0m\u001b[0mvenue_name\u001b[0m\u001b[0;34m,\u001b[0m \u001b[0mvenue_address\u001b[0m\u001b[0;34m,\u001b[0m \u001b[0mvenue_rating\u001b[0m\u001b[0;34m,\u001b[0m \u001b[0mvenue_nratings\u001b[0m\u001b[0;34m,\u001b[0m \u001b[0mvenue_lat\u001b[0m\u001b[0;34m,\u001b[0m \u001b[0mvenue_lng\u001b[0m\u001b[0;34m,\u001b[0m \u001b[0mvenue_url\u001b[0m\u001b[0;34m]\u001b[0m\u001b[0;34m)\u001b[0m\u001b[0;34m\u001b[0m\u001b[0;34m\u001b[0m\u001b[0m\n\u001b[0m\u001b[1;32m     39\u001b[0m \u001b[0;34m\u001b[0m\u001b[0m\n\u001b[1;32m     40\u001b[0m     \u001b[0mfoursquare_df\u001b[0m \u001b[0;34m=\u001b[0m \u001b[0mpd\u001b[0m\u001b[0;34m.\u001b[0m\u001b[0mDataFrame\u001b[0m\u001b[0;34m(\u001b[0m\u001b[0mfoursquare_array\u001b[0m\u001b[0;34m)\u001b[0m\u001b[0;34m\u001b[0m\u001b[0;34m\u001b[0m\u001b[0m\n",
      "\u001b[0;31mUnboundLocalError\u001b[0m: local variable 'venue_rating' referenced before assignment"
     ]
    }
   ],
   "source": [
    "def foursquare_get_df(location_coords, keyword):\n",
    "    location_str = \"%.7f,%.7f\" % location_coords\n",
    "    client = Foursquare(client_id=foursquare_id, \n",
    "                                   client_secret=foursquare_secret, \n",
    "                                   redirect_uri='http://streeteye.com/')\n",
    "    response = client.venues.search(params={'query': keyword, 'll': \"%s\" % location_str, \n",
    "                                            'radius': RADIUS, 'limit': NRESULTS})\n",
    "\n",
    "    foursquare_array = []\n",
    "\n",
    "    for i, venue in pd.json_normalize(response['venues']).iterrows():\n",
    "        venue_id = venue['id']\n",
    "        # query detailed venue info from foursquare\n",
    "        venue_name = venue['name']\n",
    "        venue_address = venue['location.address']\n",
    "        # sometimes no URL\n",
    "        try:\n",
    "            venue_url = venue['delivery.url']\n",
    "        except:\n",
    "            venue_url = ''\n",
    "        venue_lat = venue['location.lat']\n",
    "        venue_lng = venue['location.lng']\n",
    "        # default these to -1\n",
    "        try:\n",
    "            # get rating, nratings with another API call for venue details\n",
    "            venue_details = client.venues(venue_id)['venue']\n",
    "            venue_rating = venue_details['rating']\n",
    "            venue_nratings = venue_details['ratingSignals']\n",
    "        except FoursquareException as e:\n",
    "            print(\"Foursquare exception\", type(e), str(e))\n",
    "        except Exception as e:\n",
    "            continue\n",
    "            # sometimes no rating ... probably not popular enough\n",
    "            # print(type(e), str(e))\n",
    "            # print(traceback.format_exc())\n",
    "            # print(\"No rating for %s\" % venue_name)\n",
    "\n",
    "        foursquare_array.append([venue_name, venue_address, venue_rating, venue_nratings, venue_lat, venue_lng, venue_url])\n",
    "            \n",
    "    foursquare_df = pd.DataFrame(foursquare_array)\n",
    "    display(foursquare_df)\n",
    "    if foursquare_df.empty:\n",
    "        return None\n",
    "    else:\n",
    "        foursquare_df.columns = ['name', 'address', 'rating', 'nratings', 'lat', 'lng', 'url']\n",
    "        foursquare_df = foursquare_df.loc[(foursquare_df['nratings'] >= MIN_USER_RATINGS) & (foursquare_df['rating'] >= MIN_RATING)] \\\n",
    "                                     .sort_values(['rating', 'nratings'], ascending=False) \\\n",
    "                                     .reset_index(drop=True)\n",
    "        try:\n",
    "            foursquare_df['distance'] = foursquare_df.apply(lambda row: geopy.distance.geodesic((row['lat'], row['lng']), location_coords).km,\n",
    "                                                        axis=1)\n",
    "        except:\n",
    "            pass\n",
    "        foursquare_df['category'] = keyword\n",
    "        \n",
    "        return foursquare_df\n",
    "\n",
    "foursquare_df = foursquare_get_df(location_coords, keyword)\n",
    "foursquare_df"
   ]
  },
  {
   "cell_type": "code",
   "execution_count": null,
   "metadata": {},
   "outputs": [],
   "source": [
    "if foursquare_df is not None and not foursquare_df.empty:\n",
    "    foursquare_df.to_pickle('foursquare_' + test_pickle_filename)\n",
    "    \n",
    "show_grid(foursquare_df)"
   ]
  },
  {
   "cell_type": "code",
   "execution_count": null,
   "metadata": {},
   "outputs": [],
   "source": [
    "markers = [(row.lat, row.lng) for row in foursquare_df.itertuples()]\n",
    "marker_hover = [\"%s: %s (%s)\" % (row.name, row.rating, row.nratings) for row in foursquare_df.itertuples()]\n",
    "\n",
    "info_box_template = \"\"\"\n",
    "<dl>\n",
    "<dt>Name</dt><dd>{name}</dd>\n",
    "<dt>Address</dt><dd>{address}</dd>\n",
    "<dt>Foursquare rating</dt><dd>{rating}</dd>\n",
    "<dt>Foursquare reviews</dt><dd>{nratings}</dd>\n",
    "</dl>\n",
    "\"\"\"\n",
    "marker_info = [info_box_template.format(**d_item) for i, d_item in foursquare_df.iterrows()]\n",
    "\n",
    "marker_layer = gmaps.marker_layer(markers, hover_text=marker_hover, info_box_content=marker_info)\n",
    "\n",
    "figure_layout = {\n",
    "    'width': '800px',\n",
    "    'height': '800px',\n",
    "    'border': '1px solid black',\n",
    "    'padding': '1px'\n",
    "}\n",
    "\n",
    "fig = gmaps.figure(layout=figure_layout, center=location_coords, zoom_level=14)\n",
    "fig.add_layer(marker_layer)\n",
    "fig"
   ]
  },
  {
   "cell_type": "code",
   "execution_count": null,
   "metadata": {},
   "outputs": [],
   "source": [
    "folium_markers = [(a[0], a[1], b) for a, b in zip(markers, marker_info)]\n",
    "\n",
    "venues_map = folium.Map(location=[*location_coords], zoom_start=14)\n",
    "for lat, lng, label in folium_markers:\n",
    "    folium.CircleMarker(\n",
    "        [lat, lng],\n",
    "        radius=8,\n",
    "        color='blue',\n",
    "        tooltip=label,\n",
    "        fill = True,\n",
    "        fill_color='blue',\n",
    "        fill_opacity=0.5\n",
    "    ).add_to(venues_map)\n",
    "venues_map"
   ]
  },
  {
   "cell_type": "markdown",
   "metadata": {},
   "source": [
    "## 6. Merge dataframes after deduplication"
   ]
  },
  {
   "cell_type": "code",
   "execution_count": null,
   "metadata": {},
   "outputs": [],
   "source": [
    "# put everything in one big df\n",
    "pd.set_option('display.max_rows', None)\n",
    "\n",
    "gmaps_df_copy, yelp_df_copy, foursquare_df_copy = None, None, None\n",
    "\n",
    "try:\n",
    "    gmaps_df_copy = gmaps_df.copy()\n",
    "    gmaps_df_copy['source'] = '0_gmaps'\n",
    "except: \n",
    "    pass\n",
    "\n",
    "try:\n",
    "    yelp_df_copy = yelp_df.copy() \n",
    "    yelp_df_copy['source'] = '1_yelp'\n",
    "except:\n",
    "    pass\n",
    "\n",
    "try:\n",
    "    foursquare_df_copy = foursquare_df.copy()\n",
    "    foursquare_df_copy['source'] = '2_foursquare'\n",
    "except:\n",
    "    pass\n",
    "\n",
    "\n",
    "venues_df = pd.concat(list(filter(lambda df: df is not None, [gmaps_df_copy, yelp_df_copy, foursquare_df_copy]))).reset_index()\n",
    "venues_df['latlong'] = venues_df[['lat','lng']].apply(tuple, axis=1)\n",
    "\n",
    "venues_df.sort_values('name')"
   ]
  },
  {
   "cell_type": "code",
   "execution_count": null,
   "metadata": {},
   "outputs": [],
   "source": [
    "# manual fix \n",
    "venues_df.loc[venues_df['address']=='267 A Smith St', 'address'] = '267 Smith St'\n",
    "venues_df.loc[venues_df['name']=='Fornino', 'address'] = 'Pier 6 Brooklyn Bridge Park'\n",
    "venues_df.loc[venues_df['name']=='Fornino', 'lat'] = 40.6931806\n",
    "venues_df.loc[venues_df['name']=='Fornino', 'lng'] = -74.0011955\n",
    "venues_df.loc[venues_df['name']=='Brado', 'lat'] = 40.690557\n",
    "venues_df.loc[venues_df['name']=='Brado', 'lng'] = -73.994911\n",
    "venues_df['latlong'] = venues_df[['lat','lng']].apply(tuple, axis=1)\n",
    "\n",
    "venues_df.loc[venues_df['address']=='71 Smith St', 'address'] = '57 Smith St'\n",
    "venues_df.loc[venues_df['address']=='71 Smith St', 'lat'] = 40.6896242\n",
    "venues_df.loc[venues_df['address']=='71 Smith St', 'lng'] = -73.9882489\n",
    "\n",
    "venues_df.loc[venues_df['address']=='212b Pacific St', 'address'] = '212 Pacific St'\n",
    "venues_df.loc[venues_df['address']=='212 Pacific St', 'lat'] = 40.6888305\n",
    "venues_df.loc[venues_df['address']=='212 Pacific St', 'lng'] = -73.9921739\n",
    "\n",
    "# venues_df\n"
   ]
  },
  {
   "cell_type": "code",
   "execution_count": null,
   "metadata": {},
   "outputs": [],
   "source": [
    "# run dedupe algorithm using name, address as default texts, latlong as latlong\n",
    "venues_df['shortname'] = venues_df['name'].apply(lambda n: n[:25])\n",
    "venues_df2 = pandas_dedupe.dedupe_dataframe(venues_df, ['category', 'name', 'address', ('latlong', 'LatLong')])\n"
   ]
  },
  {
   "cell_type": "code",
   "execution_count": null,
   "metadata": {},
   "outputs": [],
   "source": [
    "# view clustering\n",
    "venues_df['cluster'] = venues_df2['cluster id']\n",
    "clustercols = ['cluster', 'name', 'address', 'rating', 'category', 'nratings', 'lat', 'lng', 'distance', 'source']\n",
    "venues_df = venues_df.sort_values(['cluster', 'source'])[clustercols]\n",
    "venues_df"
   ]
  },
  {
   "cell_type": "code",
   "execution_count": null,
   "metadata": {},
   "outputs": [],
   "source": [
    "# group by clusters\n",
    "cluster_df = venues_df.groupby('cluster')[['name', 'address', 'lat', 'lng', 'distance', 'source', 'category']] \\\n",
    "    .first() \\\n",
    "    .reset_index()\n",
    "cluster_df"
   ]
  },
  {
   "cell_type": "code",
   "execution_count": null,
   "metadata": {},
   "outputs": [],
   "source": [
    "# make markers on clusters\n",
    "# add ratings on all rows\n",
    "\n",
    "markers = [(float(row.lat), float(row.lng)) for row in cluster_df.itertuples()]\n",
    "marker_hover = [\"%s\" % (row.name) for row in cluster_df.itertuples()]\n",
    "\n",
    "# make a dict by cluster, initialize rating string to ''\n",
    "marker_dict = {i: {'name': row['name'],\n",
    "                   'address': row['address'],\n",
    "                   'lat': row['lat'],\n",
    "                   'lng': row['lng'],\n",
    "                   'rate_str': '',\n",
    "                  } for i, row in cluster_df.iterrows()}\n",
    "\n",
    "# add all rating strings\n",
    "for i, row in venues_df.iterrows():\n",
    "    cluster = row['cluster']\n",
    "    if row.source[2:] == 'gmaps':\n",
    "        marker_dict[cluster]['rate_str'] += \"<dt>Google rating</dt><dd>%s (%s reviews)</dd>\\n\" % (row.rating, row.nratings)\n",
    "    elif row.source[2:] == 'yelp':\n",
    "        marker_dict[cluster]['rate_str'] += \"<dt>Yelp rating</dt><dd>%s (%s reviews)</dd>\\n\" % (row.rating, row.nratings)\n",
    "    elif row.source[2:] == 'foursquare':\n",
    "        marker_dict[cluster]['rate_str'] += \"<dt>Foursquare rating</dt><dd>%s (%s reviews)</dd>\\n\" % (row.rating, row.nratings)\n",
    "    \n",
    "info_box_template = \"\"\"\n",
    "<dl>\n",
    "<dt>Name</dt><dd>{name}</dd>\n",
    "<dt>Address</dt><dd>{address}</dd>\n",
    "{rate_str}\n",
    "\n",
    "</dl>\n",
    "\"\"\"    \n",
    "\n",
    "marker_info = [info_box_template.format(**d_item) for i, d_item in marker_dict.items()]\n",
    "\n",
    "marker_layer = gmaps.marker_layer(markers, hover_text=marker_hover, info_box_content=marker_info)\n",
    "\n",
    "figure_layout = {\n",
    "    'width': '800px',\n",
    "    'height': '800px',\n",
    "    'border': '1px solid black',\n",
    "    'padding': '1px'\n",
    "}\n",
    "\n",
    "fig = gmaps.figure(layout=figure_layout, center=location_coords, zoom_level=14)\n",
    "fig.add_layer(marker_layer)\n",
    "fig\n"
   ]
  },
  {
   "cell_type": "code",
   "execution_count": null,
   "metadata": {},
   "outputs": [],
   "source": [
    "folium_markers = [(a[0], a[1], b) for a, b in zip(markers, marker_info)]\n",
    "\n",
    "venues_map = folium.Map(location=[*location_coords], zoom_start=14)\n",
    "for lat, lng, label in folium_markers:\n",
    "    folium.CircleMarker(\n",
    "        [lat, lng],\n",
    "        radius=8,\n",
    "        color='blue',\n",
    "        tooltip=label,\n",
    "        fill = True,\n",
    "        fill_color='blue',\n",
    "        fill_opacity=0.5\n",
    "    ).add_to(venues_map)\n",
    "venues_map\n"
   ]
  },
  {
   "cell_type": "code",
   "execution_count": null,
   "metadata": {},
   "outputs": [],
   "source": [
    "merge_df = cluster_df \\\n",
    "    .merge(venues_df.loc[venues_df['source']=='0_gmaps'][['cluster','rating', 'nratings']], on='cluster', how='outer') \\\n",
    "    .rename(columns={'rating': 'gmaps_rating', 'nratings': 'gmaps_nratings'})\n",
    "\n",
    "merge_df = merge_df \\\n",
    "    .merge(venues_df.loc[venues_df['source']=='1_yelp'][['cluster','rating', 'nratings']], on='cluster', how='outer') \\\n",
    "    .rename(columns={'rating': 'yelp_rating', 'nratings': 'yelp_nratings'})\n",
    "\n",
    "merge_df = merge_df \\\n",
    "    .merge(venues_df.loc[venues_df['source']=='2_foursquare'][['cluster','rating', 'nratings']], on='cluster', how='outer') \\\n",
    "    .rename(columns={'rating': 'foursquare_rating', 'nratings': 'foursquare_nratings'})\n"
   ]
  },
  {
   "cell_type": "code",
   "execution_count": null,
   "metadata": {},
   "outputs": [],
   "source": [
    "# merge_df.loc[merge_df['name']=='Brado', 'gmaps_rating'] = 4.5\n",
    "# merge_df.loc[merge_df['name']=='Brado', 'gmaps_nratings'] = 251"
   ]
  },
  {
   "cell_type": "code",
   "execution_count": null,
   "metadata": {},
   "outputs": [],
   "source": [
    "merge_df['gmaps_rating_std'] = StandardScaler().fit_transform(merge_df[['gmaps_rating']])\n",
    "\n",
    "merge_df['yelp_rating_std'] = StandardScaler().fit_transform(merge_df[['yelp_rating']])\n",
    "\n",
    "merge_df['foursquare_rating_std'] = StandardScaler().fit_transform(merge_df[['foursquare_rating']])\n",
    "\n",
    "merge_df "
   ]
  },
  {
   "cell_type": "code",
   "execution_count": null,
   "metadata": {},
   "outputs": [],
   "source": [
    "# simple average score\n",
    "merge_df['meanrating'] = np.nanmean(merge_df[['gmaps_rating_std', 'yelp_rating_std', 'foursquare_rating_std']], axis=1)\n",
    "merge_df.sort_values('meanrating', ascending=False)[['name', 'address', 'gmaps_rating', 'yelp_rating', 'foursquare_rating', 'meanrating']]\n"
   ]
  },
  {
   "cell_type": "markdown",
   "metadata": {},
   "source": [
    "## 7. Bayesian estimated score"
   ]
  },
  {
   "cell_type": "code",
   "execution_count": null,
   "metadata": {},
   "outputs": [],
   "source": [
    "# bayes score\n",
    "rating_cols = ['gmaps_rating_std', 'yelp_rating_std', 'foursquare_rating_std']\n",
    "merge_df['nratings'] = merge_df[rating_cols].count(axis=1)\n",
    "nratings_mean = np.mean(merge_df['nratings'])\n",
    "rating_avg = np.nanmean(merge_df[rating_cols])\n",
    "merge_df['w'] = merge_df['nratings']/(merge_df['nratings'] + nratings_mean)\n",
    "merge_df['R'] = np.mean(merge_df[rating_cols], axis=1)\n",
    "print('mean number of ratings', nratings_mean)\n",
    "print('average rating', rating_avg)\n",
    "merge_df['bayes_score'] = merge_df['w'] * merge_df['R'] + (1 - merge_df['w']) * rating_avg\n",
    "\n",
    "show_grid(merge_df.sort_values('bayes_score', ascending=False)[['name', 'address', 'category', 'distance', 'gmaps_rating', 'yelp_rating', 'foursquare_rating', 'nratings', 'bayes_score']])"
   ]
  },
  {
   "cell_type": "code",
   "execution_count": null,
   "metadata": {},
   "outputs": [],
   "source": [
    "z = merge_df.sort_values('bayes_score', ascending=False).reset_index()[['name', 'address', 'gmaps_rating', 'yelp_rating', 'foursquare_rating', 'bayes_score']]\n"
   ]
  },
  {
   "cell_type": "code",
   "execution_count": null,
   "metadata": {},
   "outputs": [],
   "source": [
    "z"
   ]
  },
  {
   "cell_type": "code",
   "execution_count": null,
   "metadata": {},
   "outputs": [],
   "source": [
    "def dedupe(dedupe_list):\n",
    "\n",
    "    for i, source_df in enumerate(dedupe_list):\n",
    "        source_df['source'] = i\n",
    "    venues_df = pd.concat(dedupe_list).reset_index()\n",
    "    venues_df['latlong'] = venues_df[['lat','lng']].apply(tuple, axis=1)\n",
    "    venues_df['shortname'] = venues_df['name'].apply(lambda n: n[:25])\n",
    "\n",
    "    # dedupe and assign cluster id\n",
    "    venues_df2 = pandas_dedupe.dedupe_dataframe(venues_df, ['category', 'shortname', 'address', ('latlong', 'LatLong')])\n",
    "    venues_df['cluster'] = venues_df2['cluster id']\n",
    "    venues_df = venues_df.sort_values(['cluster', 'source'])[['cluster', 'name', 'address', 'category', 'rating', 'nratings', 'lat', 'lng', 'distance', 'source']]\n",
    "\n",
    "    # group by clusters, uniquify name\n",
    "    cluster_df = venues_df.groupby('cluster')[['name', 'address', 'lat', 'lng', 'distance', 'source', 'category']] \\\n",
    "                          .first() \\\n",
    "                          .reset_index()\n",
    "\n",
    "    # merge ratings by source\n",
    "    merge_df = cluster_df \\\n",
    "        .merge(venues_df.loc[venues_df['source']=='0'][['cluster','rating', 'nratings', 'category']], on='cluster', how='outer') \\\n",
    "        .rename(columns={'rating': 'gmaps_rating', 'nratings': 'gmaps_nratings'})\n",
    "    merge_df['gmaps_rating_std'] = StandardScaler().fit_transform(merge_df[['gmaps_rating']])\n",
    "\n",
    "    merge_df = merge_df \\\n",
    "        .merge(venues_df.loc[venues_df['source']=='1'][['cluster','rating', 'nratings', 'category']], on='cluster', how='outer') \\\n",
    "        .rename(columns={'rating': 'yelp_rating', 'nratings': 'yelp_nratings'})\n",
    "    merge_df['yelp_rating_std'] = StandardScaler().fit_transform(merge_df[['yelp_rating']])\n",
    "\n",
    "    merge_df = merge_df \\\n",
    "        .merge(venues_df.loc[venues_df['source']=='2'][['cluster','rating', 'nratings', 'category']], on='cluster', how='outer') \\\n",
    "        .rename(columns={'rating': 'foursquare_rating', 'nratings': 'foursquare_nratings'})\n",
    "    merge_df['foursquare_rating_std'] = StandardScaler().fit_transform(merge_df[['foursquare_rating']])\n",
    "\n",
    "    # bayes score\n",
    "    rating_cols = ['gmaps_rating_std', 'yelp_rating_std', 'foursquare_rating_std']\n",
    "    merge_df['nratings'] = merge_df[rating_cols].count(axis=1)\n",
    "    nratings_mean = np.mean(merge_df['nratings'])\n",
    "    rating_avg = np.nanmean(merge_df[rating_cols])\n",
    "    merge_df['w'] = merge_df['nratings']/(merge_df['nratings'] + nratings_mean)\n",
    "    merge_df['R'] = np.mean(merge_df[rating_cols], axis=1)\n",
    "    merge_df['bayes_score'] = merge_df['w'] * merge_df['R'] + (1 - merge_df['w']) * rating_avg\n",
    "    merge_df = merge_df.sort_values('bayes_score', ascending=False)\n",
    "    return merge_df\n",
    "\n",
    "    \n",
    "dedupe_list = list(filter(lambda df: df is not None, [gmaps_df, yelp_df, foursquare_df]))\n",
    "\n",
    "dedupe_df = dedupe(dedupe_list)\n",
    "dedupe_df\n"
   ]
  },
  {
   "cell_type": "code",
   "execution_count": null,
   "metadata": {},
   "outputs": [],
   "source": [
    "test_pickle_filename"
   ]
  },
  {
   "cell_type": "code",
   "execution_count": null,
   "metadata": {
    "scrolled": true
   },
   "outputs": [],
   "source": [
    "dedupe_df.to_pickle(test_pickle_filename)\n",
    "pd.read_pickle(test_pickle_filename)"
   ]
  },
  {
   "cell_type": "code",
   "execution_count": 410,
   "metadata": {},
   "outputs": [],
   "source": [
    "# %%time\n",
    "# # run all in parallel\n",
    "\n",
    "# services = ['gmaps', 'yelp', 'foursquare']\n",
    "# args = list(product(services, [location_coords], [keyword]))\n",
    "\n",
    "# def generic_get_df(argslist):\n",
    "#     \"\"\"Query specified service for location and keyword, return dataframe\"\"\"\n",
    "    \n",
    "#     service, location_coords, keyword = argslist\n",
    "    \n",
    "#     if service==\"gmaps\":\n",
    "#         retdf = gmaps_get_df(location_coords, keyword)\n",
    "#     elif service==\"yelp\":\n",
    "#         retdf = yelp_get_df(location_coords, keyword)\n",
    "#     elif service==\"foursquare\":\n",
    "#         retdf = foursquare_get_df(location_coords, keyword)\n",
    "        \n",
    "#     return retdf\n",
    "\n",
    "# def all_get_df(location_coords, keyword):\n",
    "#     \"\"\"Query all services for location and keyword, return list of dataframes\"\"\"\n",
    "\n",
    "#     services = ['gmaps', 'yelp', 'foursquare']\n",
    "#     args = list(product(services, [location_coords], [keyword]))\n",
    "#     with Pool() as pool:\n",
    "#         # pool.map will block till all return\n",
    "#         # pool.imap_unordered should make each available as returned … seems to not return, incompatible with underlying apis I guess\n",
    "#         df_list = pool.map(generic_get_df, args)\n",
    "#     return df_list\n",
    "\n",
    "# print(\"Querying…\")\n",
    "# df_list = all_get_df(location_coords, keyword) \n",
    "# print(\"Deduping…\")\n",
    "# dedupe_df =  dedupe([df for df in df_list if df is not None])\n",
    "# dedupe_df"
   ]
  },
  {
   "cell_type": "code",
   "execution_count": 411,
   "metadata": {},
   "outputs": [],
   "source": [
    "# # save a file to retrain with train_dedupe2.py\n",
    "# tempdf = None\n",
    "# for k, l, j in product(['pizza', 'coffee', 'icecream'], \n",
    "#                     ['midtown','downtown','uppereastside','upperwestside','brooklynheights','grandarmyplaza','bayridge','williamsburg',],\n",
    "#                     ['gmaps', 'yelp', 'foursquare']):\n",
    "#     filename = \"cache/%s_%s_%s.pkl\" % (j, k, l)\n",
    "#     try:\n",
    "#         if tempdf is None:\n",
    "#             tempdf = pd.read_pickle(filename)\n",
    "#             tempdf['keyword']=k\n",
    "#             print(filename)\n",
    "#         else:\n",
    "#             tempdf2 = pd.read_pickle(filename)\n",
    "#             tempdf2['keyword']=k\n",
    "#             tempdf = pd.concat([tempdf, tempdf2])\n",
    "#             print(filename)\n",
    "#     except:\n",
    "#         print(\"missing \", filename)\n",
    "# tempdf.to_csv('train_df.csv', index=False)"
   ]
  },
  {
   "cell_type": "code",
   "execution_count": 412,
   "metadata": {},
   "outputs": [
    {
     "name": "stderr",
     "output_type": "stream",
     "text": [
      "100%|██████████| 30/30 [00:02<00:00, 14.97it/s]\n"
     ]
    }
   ],
   "source": [
    "# wanted to do a tqdm progress bar using imap_unordered\n",
    "\n",
    "def _foo(my_number):\n",
    "    square = my_number * my_number\n",
    "    time.sleep(1)\n",
    "    return square \n",
    "\n",
    "NSTEPS=30\n",
    "\n",
    "with Pool(multiprocessing.cpu_count()) as p:\n",
    "    r = list(tqdm(p.imap_unordered(_foo, range(NSTEPS)), total=NSTEPS))"
   ]
  }
 ],
 "metadata": {
  "kernelspec": {
   "display_name": "Python 3",
   "language": "python",
   "name": "python3"
  },
  "language_info": {
   "codemirror_mode": {
    "name": "ipython",
    "version": 3
   },
   "file_extension": ".py",
   "mimetype": "text/x-python",
   "name": "python",
   "nbconvert_exporter": "python",
   "pygments_lexer": "ipython3",
   "version": "3.7.6"
  },
  "toc": {
   "base_numbering": 1,
   "nav_menu": {},
   "number_sections": false,
   "sideBar": true,
   "skip_h1_title": false,
   "title_cell": "Table of Contents",
   "title_sidebar": "Contents",
   "toc_cell": false,
   "toc_position": {
    "height": "806px",
    "left": "1388px",
    "top": "133px",
    "width": "165px"
   },
   "toc_section_display": true,
   "toc_window_display": false
  },
  "varInspector": {
   "cols": {
    "lenName": 16,
    "lenType": 16,
    "lenVar": 40
   },
   "kernels_config": {
    "python": {
     "delete_cmd_postfix": "",
     "delete_cmd_prefix": "del ",
     "library": "var_list.py",
     "varRefreshCmd": "print(var_dic_list())"
    },
    "r": {
     "delete_cmd_postfix": ") ",
     "delete_cmd_prefix": "rm(",
     "library": "var_list.r",
     "varRefreshCmd": "cat(var_dic_list()) "
    }
   },
   "types_to_exclude": [
    "module",
    "function",
    "builtin_function_or_method",
    "instance",
    "_Feature"
   ],
   "window_display": false
  }
 },
 "nbformat": 4,
 "nbformat_minor": 2
}
