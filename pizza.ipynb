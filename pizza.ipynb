{
 "cells": [
  {
   "cell_type": "code",
   "execution_count": 1,
   "metadata": {},
   "outputs": [],
   "source": [
    "import time\n",
    "import pdb\n",
    "\n",
    "import requests, json \n",
    "\n",
    "import gmaps\n",
    "with open('apikey.txt') as f:\n",
    "    api_key = f.readline().strip()\n",
    "    f.close\n",
    "    \n",
    "gmaps.configure(api_key=api_key)\n",
    "\n"
   ]
  },
  {
   "cell_type": "code",
   "execution_count": 2,
   "metadata": {},
   "outputs": [
    {
     "data": {
      "application/vnd.jupyter.widget-view+json": {
       "model_id": "d41ef478f3f6466790fce5c0e72b65c3",
       "version_major": 2,
       "version_minor": 0
      },
      "text/plain": [
       "Figure(layout=FigureLayout(height='420px'))"
      ]
     },
     "metadata": {},
     "output_type": "display_data"
    }
   ],
   "source": [
    "new_york_coordinates = (40.75, -74.00)\n",
    "gmaps.figure(center=new_york_coordinates, zoom_level=12)\n"
   ]
  },
  {
   "cell_type": "code",
   "execution_count": 3,
   "metadata": {},
   "outputs": [],
   "source": [
    "ratings = {}\n",
    "addresses = {}\n",
    "URL = \"https://maps.googleapis.com/maps/api/place/nearbysearch/json\"\n",
    "# https://developers.google.com/places/web-service/search#TextSearchRequests\n",
    "MIN_USER_RATINGS = 10\n",
    "MIN_RATING = 4\n",
    "\n",
    "# home\n",
    "location = '40.6875627,-74.0035107'\n",
    "# grand army plaza\n",
    "# location = '40.671872,-73.972544'\n",
    "# union st and 4th ave\n",
    "# location ='40.677485,-73.983310'\n",
    "# bay ridge\n",
    "# location = \"40.624468,-74.0487134\"\n",
    "\n",
    "#rankby='prominence'\n",
    "rankby='distance'\n",
    "keyword='pizza'\n",
    "ltype='establishment'\n",
    "radius='3000'\n",
    "#https://developers.google.com/places/web-service/supported_types"
   ]
  },
  {
   "cell_type": "code",
   "execution_count": 4,
   "metadata": {},
   "outputs": [],
   "source": [
    "def get_gmaps_results(api_key, location, **kwargs):\n",
    "\n",
    "    request_url = URL + '?key=' + api_key\n",
    "    request_url += '&location=' + location\n",
    "    for name, val in kwargs.items():\n",
    "        request_url += '&' + name + '=' + val\n",
    "    r = requests.get(request_url)\n",
    "    j = r.json()\n",
    "    return j\n",
    "\n",
    "def get_next_page(api_key, next_page_token):\n",
    "    r = requests.get(URL + '?pagetoken=' + next_page_token +\n",
    "                        '&key=' + api_key)\n",
    "    for i in range(10):\n",
    "        j = r.json()\n",
    "        if not j['results']: # wait for next page to be available\n",
    "            time.sleep(5)\n",
    "            continue\n",
    "        else:\n",
    "            return j\n",
    "\n",
    "def process_results(results):\n",
    "    global ratings, addresses\n",
    "    for i, res in enumerate(results): \n",
    "        if res['user_ratings_total'] < MIN_USER_RATINGS:\n",
    "            continue\n",
    "        if res['rating'] < MIN_RATING:\n",
    "            continue\n",
    "        addresses[res['name']] = res['vicinity']\n",
    "        ratings[res['name']] = res['rating']\n",
    "        print(res['name'], res['rating'])\n",
    "    return i+1"
   ]
  },
  {
   "cell_type": "code",
   "execution_count": 5,
   "metadata": {},
   "outputs": [],
   "source": [
    "def runquery(api_key, location, **kwargs):\n",
    "    j = get_gmaps_results(api_key, location, **kwargs)\n",
    "    results = j['results']\n",
    "    totalresults = 0\n",
    "    \n",
    "    totalresults += process_results(results)\n",
    "    \n",
    "    while 'next_page_token' in j:\n",
    "        next_page_token = j['next_page_token']\n",
    "        time.sleep(5)\n",
    "        j = get_next_page(api_key, next_page_token)\n",
    "        results = j['results'] \n",
    "        totalresults += process_results(results)\n",
    "        \n",
    "    return totalresults"
   ]
  },
  {
   "cell_type": "code",
   "execution_count": 6,
   "metadata": {},
   "outputs": [
    {
     "name": "stdout",
     "output_type": "stream",
     "text": [
      "The House of Pizza & Calzone 4.6\n",
      "Francesco's Pizzeria & Trattoria 4.2\n",
      "Fornino At Pier 6-Open Seasonally from April 4.3\n",
      "Table 87 4.5\n",
      "Lucali 4.5\n",
      "Luzzo's BK 4.6\n",
      "Brado Thin Crust Pizza 4.5\n",
      "Layla Jones 4.3\n",
      "Sal's Pizza Store 4.4\n",
      "Pronto Pizza 4\n",
      "My Little Pizzeria 4.4\n",
      "Brooklyn Pizza Market 4.1\n",
      "Dellarocco's 4.5\n",
      "Numero 28 4.3\n",
      "Giardini Pizza 4.1\n",
      "Monty Q's 4.1\n",
      "Via Roma Pizza Bar 4.3\n",
      "Mark's Red Hook Pizza 4.5\n",
      "The Longshoreman 4.9\n",
      "Sottocasa 4.6\n",
      "Pizza Moto 4.7\n",
      "Fresh 99 cents pizza 4.3\n",
      "Big Daddy's Pizza 4.3\n",
      "Fascati Pizzería 4.2\n",
      "Forcella Fried Pizza 4.6\n",
      "Da Vinci 4.3\n",
      "Grimaldi's Pizzeria 4.1\n",
      "Juliana's 4.6\n",
      "2 Bros. Pizza 4.1\n",
      "Ignazio's 4\n",
      "Justino's Pizza 4.2\n",
      "Adrienne's Pizzabar 4.4\n",
      "Underground Pizza 4.4\n",
      "Metro Star 4.1\n",
      "99 Cents Hot Pizza 4\n",
      "Pranzo Pizza & Pasta 4.1\n",
      "Front Street Pizza 4.4\n",
      "PIZZA ETALIA 4.1\n",
      "LBK pizza 4.6\n",
      "Table 87 Gowanus 4.6\n",
      "The Grotto Pizzeria 4.4\n",
      "Little Italy Pizzeria and Deli 4.2\n",
      "Pizza Secret 4.5\n",
      "Pizza Town 4.5\n",
      "La Villa Pizzeria 4.5\n",
      "Patsy’s Pizzeria 4.5\n",
      "Lean Crust Pizza 4.4\n",
      "Keste Wall Street 4.5\n",
      "Gino's Pizzeria 4.3\n",
      "Not Ray's Pizza 4.3\n",
      "Rosella's Pizzeria 4.3\n"
     ]
    },
    {
     "data": {
      "text/plain": [
       "60"
      ]
     },
     "execution_count": 6,
     "metadata": {},
     "output_type": "execute_result"
    }
   ],
   "source": [
    "# use either rankby or radius\n",
    "# j = get_gmaps_results(api_key, location, keyword=keyword, ltype=ltype, radius=radius)\n",
    "runquery(api_key, location, keyword=keyword, ltype=ltype, rankby=rankby)\n"
   ]
  },
  {
   "cell_type": "code",
   "execution_count": 7,
   "metadata": {},
   "outputs": [
    {
     "name": "stdout",
     "output_type": "stream",
     "text": [
      "4.9 The Longshoreman 215 Columbia St, Brooklyn\n",
      "4.7 Pizza Moto 338 Hamilton Ave, Brooklyn\n",
      "4.6 Table 87 Gowanus 473 3rd Ave, Brooklyn\n",
      "4.6 LBK pizza 669 Union St, Brooklyn\n",
      "4.6 Juliana's 19 Old Fulton St, Brooklyn\n",
      "4.6 Forcella Fried Pizza 445 Albee Square W, Brooklyn\n",
      "4.6 Sottocasa 298 Atlantic Ave, Brooklyn\n",
      "4.6 Luzzo's BK 145 Atlantic Ave, Brooklyn\n",
      "4.6 The House of Pizza & Calzone 132 Union St, Brooklyn\n",
      "4.5 Keste Wall Street 77 Fulton St, New York\n",
      "4.5 Patsy’s Pizzeria 450 Dean St, Brooklyn\n",
      "4.5 La Villa Pizzeria 261 5th Ave, Brooklyn\n",
      "4.5 Pizza Town 85 5th Ave, Brooklyn\n",
      "4.5 Pizza Secret 72 5th Ave, Brooklyn\n",
      "4.5 Mark's Red Hook Pizza 326 Van Brunt St, Brooklyn\n",
      "4.5 Dellarocco's 214 Hicks St, Brooklyn Heights\n",
      "4.5 Brado Thin Crust Pizza 155 Atlantic Ave, Brooklyn\n",
      "4.5 Lucali 575 Henry St, Brooklyn\n",
      "4.5 Table 87 87 Atlantic Ave, Brooklyn\n",
      "4.4 Lean Crust Pizza 737 Fulton St, Brooklyn\n",
      "4.4 The Grotto Pizzeria 69 New St, New York\n",
      "4.4 Front Street Pizza 80 Front St, Brooklyn\n",
      "4.4 Underground Pizza 3 Hanover Square, New York\n",
      "4.4 Adrienne's Pizzabar 54 Stone St, New York\n",
      "4.4 My Little Pizzeria 114 Court St, Brooklyn\n",
      "4.4 Sal's Pizza Store 305 Court St, Brooklyn\n",
      "4.3 Rosella's Pizzeria 164 William Street #2611 between Ann St &, Beekman St, New York\n",
      "4.3 Not Ray's Pizza 694 Fulton St, Brooklyn\n",
      "4.3 Gino's Pizzeria 218 Flatbush Ave, Brooklyn\n",
      "4.3 Da Vinci 44 Water St, New York\n",
      "4.3 Big Daddy's Pizza 68 Lorraine St, Brooklyn\n",
      "4.3 Fresh 99 cents pizza 51 Willoughby St, Brooklyn\n",
      "4.3 Via Roma Pizza Bar 445 Court St, Brooklyn\n",
      "4.3 Numero 28 68 Bergen St, Brooklyn\n",
      "4.3 Layla Jones 214 Court St, Brooklyn\n",
      "4.3 Fornino At Pier 6-Open Seasonally from April Brooklyn Bridge Park Pier 6, Bridge Park Dr, Brooklyn\n",
      "4.2 Little Italy Pizzeria and Deli 50 Fulton St, New York\n",
      "4.2 Justino's Pizza 77 Pearl St, New York\n",
      "4.2 Fascati Pizzería 80 Henry St, Brooklyn\n",
      "4.2 Francesco's Pizzeria & Trattoria 529 Henry St, Brooklyn\n",
      "4.1 PIZZA ETALIA 20 Beaver St, New York\n",
      "4.1 Pranzo Pizza & Pasta 44 Water St, New York\n",
      "4.1 Metro Star 369 Jay St, Brooklyn\n",
      "4.1 2 Bros. Pizza 395 Flatbush Ave Ext #5321, Brooklyn\n",
      "4.1 Grimaldi's Pizzeria 1 Front St, Brooklyn\n",
      "4.1 Monty Q's 158 Montague St, Brooklyn\n",
      "4.1 Giardini Pizza 363 Smith St, Brooklyn\n",
      "4.1 Brooklyn Pizza Market 267 A Smith St, Brooklyn\n",
      "4 99 Cents Hot Pizza 255 Livingston St, Brooklyn\n",
      "4 Ignazio's 4 Water St, Brooklyn\n",
      "4 Pronto Pizza 139 Court St, Brooklyn\n"
     ]
    }
   ],
   "source": [
    "jarray = []\n",
    "for name, rating in reversed(sorted(ratings.items(), key=lambda item: item[1])):\n",
    "    print (rating, name, addresses[name])\n",
    "    jarray.append([name, addresses[name], rating])\n",
    "    \n"
   ]
  },
  {
   "cell_type": "code",
   "execution_count": null,
   "metadata": {},
   "outputs": [],
   "source": []
  }
 ],
 "metadata": {
  "kernelspec": {
   "display_name": "TF21",
   "language": "python",
   "name": "tf21"
  },
  "language_info": {
   "codemirror_mode": {
    "name": "ipython",
    "version": 3
   },
   "file_extension": ".py",
   "mimetype": "text/x-python",
   "name": "python",
   "nbconvert_exporter": "python",
   "pygments_lexer": "ipython3",
   "version": "3.6.10"
  }
 },
 "nbformat": 4,
 "nbformat_minor": 2
}
